{
  "cells": [
    {
      "cell_type": "markdown",
      "id": "0f0b1622",
      "metadata": {
        "id": "0f0b1622"
      },
      "source": [
        "Syed Khurram Abbas Rizvi:CS-19130\n",
        "Arham Ahmed Siddiqui:CS-19129\n",
        "Huzaifa Yousuf:CS-19150"
      ]
    },
    {
      "cell_type": "code",
      "source": [
        "!pip install mglearn"
      ],
      "metadata": {
        "colab": {
          "base_uri": "https://localhost:8080/"
        },
        "id": "9HDPTkxB24Eq",
        "outputId": "c1cf8928-1e7a-4464-eed7-fddc31a95e14"
      },
      "id": "9HDPTkxB24Eq",
      "execution_count": null,
      "outputs": [
        {
          "output_type": "stream",
          "name": "stdout",
          "text": [
            "Looking in indexes: https://pypi.org/simple, https://us-python.pkg.dev/colab-wheels/public/simple/\n",
            "Collecting mglearn\n",
            "  Downloading mglearn-0.1.9.tar.gz (540 kB)\n",
            "\u001b[K     |████████████████████████████████| 540 kB 5.2 MB/s \n",
            "\u001b[?25hRequirement already satisfied: numpy in /usr/local/lib/python3.7/dist-packages (from mglearn) (1.21.6)\n",
            "Requirement already satisfied: matplotlib in /usr/local/lib/python3.7/dist-packages (from mglearn) (3.2.2)\n",
            "Requirement already satisfied: scikit-learn in /usr/local/lib/python3.7/dist-packages (from mglearn) (1.0.2)\n",
            "Requirement already satisfied: pandas in /usr/local/lib/python3.7/dist-packages (from mglearn) (1.3.5)\n",
            "Requirement already satisfied: pillow in /usr/local/lib/python3.7/dist-packages (from mglearn) (7.1.2)\n",
            "Requirement already satisfied: cycler in /usr/local/lib/python3.7/dist-packages (from mglearn) (0.11.0)\n",
            "Requirement already satisfied: imageio in /usr/local/lib/python3.7/dist-packages (from mglearn) (2.4.1)\n",
            "Requirement already satisfied: joblib in /usr/local/lib/python3.7/dist-packages (from mglearn) (1.1.0)\n",
            "Requirement already satisfied: python-dateutil>=2.1 in /usr/local/lib/python3.7/dist-packages (from matplotlib->mglearn) (2.8.2)\n",
            "Requirement already satisfied: pyparsing!=2.0.4,!=2.1.2,!=2.1.6,>=2.0.1 in /usr/local/lib/python3.7/dist-packages (from matplotlib->mglearn) (3.0.9)\n",
            "Requirement already satisfied: kiwisolver>=1.0.1 in /usr/local/lib/python3.7/dist-packages (from matplotlib->mglearn) (1.4.4)\n",
            "Requirement already satisfied: typing-extensions in /usr/local/lib/python3.7/dist-packages (from kiwisolver>=1.0.1->matplotlib->mglearn) (4.1.1)\n",
            "Requirement already satisfied: six>=1.5 in /usr/local/lib/python3.7/dist-packages (from python-dateutil>=2.1->matplotlib->mglearn) (1.15.0)\n",
            "Requirement already satisfied: pytz>=2017.3 in /usr/local/lib/python3.7/dist-packages (from pandas->mglearn) (2022.1)\n",
            "Requirement already satisfied: scipy>=1.1.0 in /usr/local/lib/python3.7/dist-packages (from scikit-learn->mglearn) (1.7.3)\n",
            "Requirement already satisfied: threadpoolctl>=2.0.0 in /usr/local/lib/python3.7/dist-packages (from scikit-learn->mglearn) (3.1.0)\n",
            "Building wheels for collected packages: mglearn\n",
            "  Building wheel for mglearn (setup.py) ... \u001b[?25l\u001b[?25hdone\n",
            "  Created wheel for mglearn: filename=mglearn-0.1.9-py2.py3-none-any.whl size=582639 sha256=42d2a0e8d38c41370ca1df7853f084ab2f9dae7a1329804d8fe70d178a699269\n",
            "  Stored in directory: /root/.cache/pip/wheels/f1/17/e1/1720d6dcd70187b6b6c3750cb3508798f2b1d57c9d3214b08b\n",
            "Successfully built mglearn\n",
            "Installing collected packages: mglearn\n",
            "Successfully installed mglearn-0.1.9\n"
          ]
        }
      ]
    },
    {
      "cell_type": "code",
      "execution_count": null,
      "id": "b8894092",
      "metadata": {
        "id": "b8894092"
      },
      "outputs": [],
      "source": [
        "import pandas as pd\n",
        "import numpy as np\n",
        "import sklearn.metrics as metrics\n",
        "import matplotlib.pyplot as plt"
      ]
    },
    {
      "cell_type": "code",
      "execution_count": null,
      "id": "dc57ad18",
      "metadata": {
        "id": "dc57ad18"
      },
      "outputs": [],
      "source": [
        "data=pd.read_csv('The_Grades_Dataset.csv') #reading the dataset"
      ]
    },
    {
      "cell_type": "code",
      "execution_count": null,
      "id": "f347e1a3",
      "metadata": {
        "colab": {
          "base_uri": "https://localhost:8080/",
          "height": 658
        },
        "id": "f347e1a3",
        "outputId": "adcda104-d5c5-4394-ad05-227e96b91f8d",
        "scrolled": true
      },
      "outputs": [
        {
          "output_type": "execute_result",
          "data": {
            "text/plain": [
              "     Seat No. PH-121 HS-101 CY-105 HS-105/12 MT-111 CS-105 CS-106 EL-102  \\\n",
              "0    CS-97001     B-     D+     C-         C     C-     D+      D     C-   \n",
              "1    CS-97002      A      D     D+         D     B-      C      D      A   \n",
              "2    CS-97003      A      B      A        B-     B+      A     B-     B+   \n",
              "3    CS-97004      D     C+     D+         D      D     A-     D+     C-   \n",
              "4    CS-97005     A-     A-     A-        B+      A      A     A-     B+   \n",
              "..        ...    ...    ...    ...       ...    ...    ...    ...    ...   \n",
              "566  CS-97567      B      A      A        A-     A+      A     A-     A-   \n",
              "567  CS-97568     A+      A      A         A      A      A      A     A-   \n",
              "568  CS-97569      B      A     A-        B+      A      A      A      A   \n",
              "569  CS-97570      A     B+      D         A      D     D+     B-     C-   \n",
              "570  CS-97571      C      D      D         C      C     D+      B     C+   \n",
              "\n",
              "    EE-119  ... CS-312 CS-317 CS-403 CS-421 CS-406 CS-414 CS-419 CS-423  \\\n",
              "0       B-  ...     C-     C-     C-     C-     A-      A     C-      B   \n",
              "1       D+  ...     D+      D      C      D     A-     B-      C      C   \n",
              "2       A-  ...      B      B      A      C      A      A      A     A-   \n",
              "3        D  ...     D+      C     D+     C-     B-      B     C+     C+   \n",
              "4        A  ...     B-     B+     B+     B-     A-      A     A-     A-   \n",
              "..     ...  ...    ...    ...    ...    ...    ...    ...    ...    ...   \n",
              "566     A+  ...     A-     A-      A      A      A     B+     B+      B   \n",
              "567      A  ...     B+     B+      A      A     A-      B     A-      C   \n",
              "568      A  ...     A-      B      A     B+      A      C     B+     A-   \n",
              "569     B-  ...      D      B      B     C-      D      C      B     B-   \n",
              "570      C  ...     C+      C     B-      D      F     C-     B+      D   \n",
              "\n",
              "    CS-412   CGPA  \n",
              "0       A-  2.205  \n",
              "1        B  2.008  \n",
              "2        A  3.608  \n",
              "3       C+  1.906  \n",
              "4        A  3.448  \n",
              "..     ...    ...  \n",
              "566      A  3.798  \n",
              "567     A-  3.772  \n",
              "568     A-  3.470  \n",
              "569      C  2.193  \n",
              "570     C-  1.753  \n",
              "\n",
              "[571 rows x 43 columns]"
            ],
            "text/html": [
              "\n",
              "  <div id=\"df-6c85ce7a-3a2a-40ff-8f2c-36711dec7509\">\n",
              "    <div class=\"colab-df-container\">\n",
              "      <div>\n",
              "<style scoped>\n",
              "    .dataframe tbody tr th:only-of-type {\n",
              "        vertical-align: middle;\n",
              "    }\n",
              "\n",
              "    .dataframe tbody tr th {\n",
              "        vertical-align: top;\n",
              "    }\n",
              "\n",
              "    .dataframe thead th {\n",
              "        text-align: right;\n",
              "    }\n",
              "</style>\n",
              "<table border=\"1\" class=\"dataframe\">\n",
              "  <thead>\n",
              "    <tr style=\"text-align: right;\">\n",
              "      <th></th>\n",
              "      <th>Seat No.</th>\n",
              "      <th>PH-121</th>\n",
              "      <th>HS-101</th>\n",
              "      <th>CY-105</th>\n",
              "      <th>HS-105/12</th>\n",
              "      <th>MT-111</th>\n",
              "      <th>CS-105</th>\n",
              "      <th>CS-106</th>\n",
              "      <th>EL-102</th>\n",
              "      <th>EE-119</th>\n",
              "      <th>...</th>\n",
              "      <th>CS-312</th>\n",
              "      <th>CS-317</th>\n",
              "      <th>CS-403</th>\n",
              "      <th>CS-421</th>\n",
              "      <th>CS-406</th>\n",
              "      <th>CS-414</th>\n",
              "      <th>CS-419</th>\n",
              "      <th>CS-423</th>\n",
              "      <th>CS-412</th>\n",
              "      <th>CGPA</th>\n",
              "    </tr>\n",
              "  </thead>\n",
              "  <tbody>\n",
              "    <tr>\n",
              "      <th>0</th>\n",
              "      <td>CS-97001</td>\n",
              "      <td>B-</td>\n",
              "      <td>D+</td>\n",
              "      <td>C-</td>\n",
              "      <td>C</td>\n",
              "      <td>C-</td>\n",
              "      <td>D+</td>\n",
              "      <td>D</td>\n",
              "      <td>C-</td>\n",
              "      <td>B-</td>\n",
              "      <td>...</td>\n",
              "      <td>C-</td>\n",
              "      <td>C-</td>\n",
              "      <td>C-</td>\n",
              "      <td>C-</td>\n",
              "      <td>A-</td>\n",
              "      <td>A</td>\n",
              "      <td>C-</td>\n",
              "      <td>B</td>\n",
              "      <td>A-</td>\n",
              "      <td>2.205</td>\n",
              "    </tr>\n",
              "    <tr>\n",
              "      <th>1</th>\n",
              "      <td>CS-97002</td>\n",
              "      <td>A</td>\n",
              "      <td>D</td>\n",
              "      <td>D+</td>\n",
              "      <td>D</td>\n",
              "      <td>B-</td>\n",
              "      <td>C</td>\n",
              "      <td>D</td>\n",
              "      <td>A</td>\n",
              "      <td>D+</td>\n",
              "      <td>...</td>\n",
              "      <td>D+</td>\n",
              "      <td>D</td>\n",
              "      <td>C</td>\n",
              "      <td>D</td>\n",
              "      <td>A-</td>\n",
              "      <td>B-</td>\n",
              "      <td>C</td>\n",
              "      <td>C</td>\n",
              "      <td>B</td>\n",
              "      <td>2.008</td>\n",
              "    </tr>\n",
              "    <tr>\n",
              "      <th>2</th>\n",
              "      <td>CS-97003</td>\n",
              "      <td>A</td>\n",
              "      <td>B</td>\n",
              "      <td>A</td>\n",
              "      <td>B-</td>\n",
              "      <td>B+</td>\n",
              "      <td>A</td>\n",
              "      <td>B-</td>\n",
              "      <td>B+</td>\n",
              "      <td>A-</td>\n",
              "      <td>...</td>\n",
              "      <td>B</td>\n",
              "      <td>B</td>\n",
              "      <td>A</td>\n",
              "      <td>C</td>\n",
              "      <td>A</td>\n",
              "      <td>A</td>\n",
              "      <td>A</td>\n",
              "      <td>A-</td>\n",
              "      <td>A</td>\n",
              "      <td>3.608</td>\n",
              "    </tr>\n",
              "    <tr>\n",
              "      <th>3</th>\n",
              "      <td>CS-97004</td>\n",
              "      <td>D</td>\n",
              "      <td>C+</td>\n",
              "      <td>D+</td>\n",
              "      <td>D</td>\n",
              "      <td>D</td>\n",
              "      <td>A-</td>\n",
              "      <td>D+</td>\n",
              "      <td>C-</td>\n",
              "      <td>D</td>\n",
              "      <td>...</td>\n",
              "      <td>D+</td>\n",
              "      <td>C</td>\n",
              "      <td>D+</td>\n",
              "      <td>C-</td>\n",
              "      <td>B-</td>\n",
              "      <td>B</td>\n",
              "      <td>C+</td>\n",
              "      <td>C+</td>\n",
              "      <td>C+</td>\n",
              "      <td>1.906</td>\n",
              "    </tr>\n",
              "    <tr>\n",
              "      <th>4</th>\n",
              "      <td>CS-97005</td>\n",
              "      <td>A-</td>\n",
              "      <td>A-</td>\n",
              "      <td>A-</td>\n",
              "      <td>B+</td>\n",
              "      <td>A</td>\n",
              "      <td>A</td>\n",
              "      <td>A-</td>\n",
              "      <td>B+</td>\n",
              "      <td>A</td>\n",
              "      <td>...</td>\n",
              "      <td>B-</td>\n",
              "      <td>B+</td>\n",
              "      <td>B+</td>\n",
              "      <td>B-</td>\n",
              "      <td>A-</td>\n",
              "      <td>A</td>\n",
              "      <td>A-</td>\n",
              "      <td>A-</td>\n",
              "      <td>A</td>\n",
              "      <td>3.448</td>\n",
              "    </tr>\n",
              "    <tr>\n",
              "      <th>...</th>\n",
              "      <td>...</td>\n",
              "      <td>...</td>\n",
              "      <td>...</td>\n",
              "      <td>...</td>\n",
              "      <td>...</td>\n",
              "      <td>...</td>\n",
              "      <td>...</td>\n",
              "      <td>...</td>\n",
              "      <td>...</td>\n",
              "      <td>...</td>\n",
              "      <td>...</td>\n",
              "      <td>...</td>\n",
              "      <td>...</td>\n",
              "      <td>...</td>\n",
              "      <td>...</td>\n",
              "      <td>...</td>\n",
              "      <td>...</td>\n",
              "      <td>...</td>\n",
              "      <td>...</td>\n",
              "      <td>...</td>\n",
              "      <td>...</td>\n",
              "    </tr>\n",
              "    <tr>\n",
              "      <th>566</th>\n",
              "      <td>CS-97567</td>\n",
              "      <td>B</td>\n",
              "      <td>A</td>\n",
              "      <td>A</td>\n",
              "      <td>A-</td>\n",
              "      <td>A+</td>\n",
              "      <td>A</td>\n",
              "      <td>A-</td>\n",
              "      <td>A-</td>\n",
              "      <td>A+</td>\n",
              "      <td>...</td>\n",
              "      <td>A-</td>\n",
              "      <td>A-</td>\n",
              "      <td>A</td>\n",
              "      <td>A</td>\n",
              "      <td>A</td>\n",
              "      <td>B+</td>\n",
              "      <td>B+</td>\n",
              "      <td>B</td>\n",
              "      <td>A</td>\n",
              "      <td>3.798</td>\n",
              "    </tr>\n",
              "    <tr>\n",
              "      <th>567</th>\n",
              "      <td>CS-97568</td>\n",
              "      <td>A+</td>\n",
              "      <td>A</td>\n",
              "      <td>A</td>\n",
              "      <td>A</td>\n",
              "      <td>A</td>\n",
              "      <td>A</td>\n",
              "      <td>A</td>\n",
              "      <td>A-</td>\n",
              "      <td>A</td>\n",
              "      <td>...</td>\n",
              "      <td>B+</td>\n",
              "      <td>B+</td>\n",
              "      <td>A</td>\n",
              "      <td>A</td>\n",
              "      <td>A-</td>\n",
              "      <td>B</td>\n",
              "      <td>A-</td>\n",
              "      <td>C</td>\n",
              "      <td>A-</td>\n",
              "      <td>3.772</td>\n",
              "    </tr>\n",
              "    <tr>\n",
              "      <th>568</th>\n",
              "      <td>CS-97569</td>\n",
              "      <td>B</td>\n",
              "      <td>A</td>\n",
              "      <td>A-</td>\n",
              "      <td>B+</td>\n",
              "      <td>A</td>\n",
              "      <td>A</td>\n",
              "      <td>A</td>\n",
              "      <td>A</td>\n",
              "      <td>A</td>\n",
              "      <td>...</td>\n",
              "      <td>A-</td>\n",
              "      <td>B</td>\n",
              "      <td>A</td>\n",
              "      <td>B+</td>\n",
              "      <td>A</td>\n",
              "      <td>C</td>\n",
              "      <td>B+</td>\n",
              "      <td>A-</td>\n",
              "      <td>A-</td>\n",
              "      <td>3.470</td>\n",
              "    </tr>\n",
              "    <tr>\n",
              "      <th>569</th>\n",
              "      <td>CS-97570</td>\n",
              "      <td>A</td>\n",
              "      <td>B+</td>\n",
              "      <td>D</td>\n",
              "      <td>A</td>\n",
              "      <td>D</td>\n",
              "      <td>D+</td>\n",
              "      <td>B-</td>\n",
              "      <td>C-</td>\n",
              "      <td>B-</td>\n",
              "      <td>...</td>\n",
              "      <td>D</td>\n",
              "      <td>B</td>\n",
              "      <td>B</td>\n",
              "      <td>C-</td>\n",
              "      <td>D</td>\n",
              "      <td>C</td>\n",
              "      <td>B</td>\n",
              "      <td>B-</td>\n",
              "      <td>C</td>\n",
              "      <td>2.193</td>\n",
              "    </tr>\n",
              "    <tr>\n",
              "      <th>570</th>\n",
              "      <td>CS-97571</td>\n",
              "      <td>C</td>\n",
              "      <td>D</td>\n",
              "      <td>D</td>\n",
              "      <td>C</td>\n",
              "      <td>C</td>\n",
              "      <td>D+</td>\n",
              "      <td>B</td>\n",
              "      <td>C+</td>\n",
              "      <td>C</td>\n",
              "      <td>...</td>\n",
              "      <td>C+</td>\n",
              "      <td>C</td>\n",
              "      <td>B-</td>\n",
              "      <td>D</td>\n",
              "      <td>F</td>\n",
              "      <td>C-</td>\n",
              "      <td>B+</td>\n",
              "      <td>D</td>\n",
              "      <td>C-</td>\n",
              "      <td>1.753</td>\n",
              "    </tr>\n",
              "  </tbody>\n",
              "</table>\n",
              "<p>571 rows × 43 columns</p>\n",
              "</div>\n",
              "      <button class=\"colab-df-convert\" onclick=\"convertToInteractive('df-6c85ce7a-3a2a-40ff-8f2c-36711dec7509')\"\n",
              "              title=\"Convert this dataframe to an interactive table.\"\n",
              "              style=\"display:none;\">\n",
              "        \n",
              "  <svg xmlns=\"http://www.w3.org/2000/svg\" height=\"24px\"viewBox=\"0 0 24 24\"\n",
              "       width=\"24px\">\n",
              "    <path d=\"M0 0h24v24H0V0z\" fill=\"none\"/>\n",
              "    <path d=\"M18.56 5.44l.94 2.06.94-2.06 2.06-.94-2.06-.94-.94-2.06-.94 2.06-2.06.94zm-11 1L8.5 8.5l.94-2.06 2.06-.94-2.06-.94L8.5 2.5l-.94 2.06-2.06.94zm10 10l.94 2.06.94-2.06 2.06-.94-2.06-.94-.94-2.06-.94 2.06-2.06.94z\"/><path d=\"M17.41 7.96l-1.37-1.37c-.4-.4-.92-.59-1.43-.59-.52 0-1.04.2-1.43.59L10.3 9.45l-7.72 7.72c-.78.78-.78 2.05 0 2.83L4 21.41c.39.39.9.59 1.41.59.51 0 1.02-.2 1.41-.59l7.78-7.78 2.81-2.81c.8-.78.8-2.07 0-2.86zM5.41 20L4 18.59l7.72-7.72 1.47 1.35L5.41 20z\"/>\n",
              "  </svg>\n",
              "      </button>\n",
              "      \n",
              "  <style>\n",
              "    .colab-df-container {\n",
              "      display:flex;\n",
              "      flex-wrap:wrap;\n",
              "      gap: 12px;\n",
              "    }\n",
              "\n",
              "    .colab-df-convert {\n",
              "      background-color: #E8F0FE;\n",
              "      border: none;\n",
              "      border-radius: 50%;\n",
              "      cursor: pointer;\n",
              "      display: none;\n",
              "      fill: #1967D2;\n",
              "      height: 32px;\n",
              "      padding: 0 0 0 0;\n",
              "      width: 32px;\n",
              "    }\n",
              "\n",
              "    .colab-df-convert:hover {\n",
              "      background-color: #E2EBFA;\n",
              "      box-shadow: 0px 1px 2px rgba(60, 64, 67, 0.3), 0px 1px 3px 1px rgba(60, 64, 67, 0.15);\n",
              "      fill: #174EA6;\n",
              "    }\n",
              "\n",
              "    [theme=dark] .colab-df-convert {\n",
              "      background-color: #3B4455;\n",
              "      fill: #D2E3FC;\n",
              "    }\n",
              "\n",
              "    [theme=dark] .colab-df-convert:hover {\n",
              "      background-color: #434B5C;\n",
              "      box-shadow: 0px 1px 3px 1px rgba(0, 0, 0, 0.15);\n",
              "      filter: drop-shadow(0px 1px 2px rgba(0, 0, 0, 0.3));\n",
              "      fill: #FFFFFF;\n",
              "    }\n",
              "  </style>\n",
              "\n",
              "      <script>\n",
              "        const buttonEl =\n",
              "          document.querySelector('#df-6c85ce7a-3a2a-40ff-8f2c-36711dec7509 button.colab-df-convert');\n",
              "        buttonEl.style.display =\n",
              "          google.colab.kernel.accessAllowed ? 'block' : 'none';\n",
              "\n",
              "        async function convertToInteractive(key) {\n",
              "          const element = document.querySelector('#df-6c85ce7a-3a2a-40ff-8f2c-36711dec7509');\n",
              "          const dataTable =\n",
              "            await google.colab.kernel.invokeFunction('convertToInteractive',\n",
              "                                                     [key], {});\n",
              "          if (!dataTable) return;\n",
              "\n",
              "          const docLinkHtml = 'Like what you see? Visit the ' +\n",
              "            '<a target=\"_blank\" href=https://colab.research.google.com/notebooks/data_table.ipynb>data table notebook</a>'\n",
              "            + ' to learn more about interactive tables.';\n",
              "          element.innerHTML = '';\n",
              "          dataTable['output_type'] = 'display_data';\n",
              "          await google.colab.output.renderOutput(dataTable, element);\n",
              "          const docLink = document.createElement('div');\n",
              "          docLink.innerHTML = docLinkHtml;\n",
              "          element.appendChild(docLink);\n",
              "        }\n",
              "      </script>\n",
              "    </div>\n",
              "  </div>\n",
              "  "
            ]
          },
          "metadata": {},
          "execution_count": 29
        }
      ],
      "source": [
        "data"
      ]
    },
    {
      "cell_type": "markdown",
      "source": [
        "**Preprocessing**"
      ],
      "metadata": {
        "id": "ADTPsF4gfZY9"
      },
      "id": "ADTPsF4gfZY9"
    },
    {
      "cell_type": "code",
      "execution_count": null,
      "id": "327660f8",
      "metadata": {
        "id": "327660f8"
      },
      "outputs": [],
      "source": [
        "for column in data:                             # Replacing the grades with GPs\n",
        "    data[column]=data[column].replace('A+',4.0)\n",
        "    data[column]=data[column].replace('A',4.0)\n",
        "    data[column]=data[column].replace('A-',3.7)\n",
        "    data[column]=data[column].replace('B+',3.3)\n",
        "    data[column]=data[column].replace('B',3.0)\n",
        "    data[column]=data[column].replace('B-',2.7)\n",
        "    data[column]=data[column].replace('C+',2.3)\n",
        "    data[column]=data[column].replace('C',2.0)\n",
        "    data[column]=data[column].replace('C-',1.7)\n",
        "    data[column]=data[column].replace('D+',1.3)\n",
        "    data[column]=data[column].replace('D',1.0)\n",
        "    data[column]=data[column].replace('D-',0.7)\n",
        "    data[column]=data[column].replace('WU',0)\n",
        "    data[column]=data[column].replace('W',0)\n",
        "    data[column]=data[column].replace('F',0)\n",
        "    data[column]=data[column].replace('I',0)"
      ]
    },
    {
      "cell_type": "code",
      "execution_count": null,
      "id": "181e2159",
      "metadata": {
        "colab": {
          "base_uri": "https://localhost:8080/",
          "height": 658
        },
        "id": "181e2159",
        "outputId": "2f3c7237-8a8c-4f71-c2b9-bce02370642a"
      },
      "outputs": [
        {
          "output_type": "execute_result",
          "data": {
            "text/plain": [
              "     Seat No.  PH-121  HS-101  CY-105  HS-105/12  MT-111  CS-105  CS-106  \\\n",
              "0    CS-97001     2.7     1.3     1.7        2.0     1.7     1.3     1.0   \n",
              "1    CS-97002     4.0     1.0     1.3        1.0     2.7     2.0     1.0   \n",
              "2    CS-97003     4.0     3.0     4.0        2.7     3.3     4.0     2.7   \n",
              "3    CS-97004     1.0     2.3     1.3        1.0     1.0     3.7     1.3   \n",
              "4    CS-97005     3.7     3.7     3.7        3.3     4.0     4.0     3.7   \n",
              "..        ...     ...     ...     ...        ...     ...     ...     ...   \n",
              "566  CS-97567     3.0     4.0     4.0        3.7     4.0     4.0     3.7   \n",
              "567  CS-97568     4.0     4.0     4.0        4.0     4.0     4.0     4.0   \n",
              "568  CS-97569     3.0     4.0     3.7        3.3     4.0     4.0     4.0   \n",
              "569  CS-97570     4.0     3.3     1.0        4.0     1.0     1.3     2.7   \n",
              "570  CS-97571     2.0     1.0     1.0        2.0     2.0     1.3     3.0   \n",
              "\n",
              "     EL-102  EE-119  ...  CS-312  CS-317  CS-403  CS-421  CS-406  CS-414  \\\n",
              "0       1.7     2.7  ...     1.7     1.7     1.7     1.7     3.7     4.0   \n",
              "1       4.0     1.3  ...     1.3     1.0     2.0     1.0     3.7     2.7   \n",
              "2       3.3     3.7  ...     3.0     3.0     4.0     2.0     4.0     4.0   \n",
              "3       1.7     1.0  ...     1.3     2.0     1.3     1.7     2.7     3.0   \n",
              "4       3.3     4.0  ...     2.7     3.3     3.3     2.7     3.7     4.0   \n",
              "..      ...     ...  ...     ...     ...     ...     ...     ...     ...   \n",
              "566     3.7     4.0  ...     3.7     3.7     4.0     4.0     4.0     3.3   \n",
              "567     3.7     4.0  ...     3.3     3.3     4.0     4.0     3.7     3.0   \n",
              "568     4.0     4.0  ...     3.7     3.0     4.0     3.3     4.0     2.0   \n",
              "569     1.7     2.7  ...     1.0     3.0     3.0     1.7     1.0     2.0   \n",
              "570     2.3     2.0  ...     2.3     2.0     2.7     1.0     0.0     1.7   \n",
              "\n",
              "     CS-419  CS-423  CS-412   CGPA  \n",
              "0       1.7     3.0     3.7  2.205  \n",
              "1       2.0     2.0     3.0  2.008  \n",
              "2       4.0     3.7     4.0  3.608  \n",
              "3       2.3     2.3     2.3  1.906  \n",
              "4       3.7     3.7     4.0  3.448  \n",
              "..      ...     ...     ...    ...  \n",
              "566     3.3     3.0     4.0  3.798  \n",
              "567     3.7     2.0     3.7  3.772  \n",
              "568     3.3     3.7     3.7  3.470  \n",
              "569     3.0     2.7     2.0  2.193  \n",
              "570     3.3     1.0     1.7  1.753  \n",
              "\n",
              "[571 rows x 43 columns]"
            ],
            "text/html": [
              "\n",
              "  <div id=\"df-2cf3f932-77b7-47db-8f60-cc6ae98f493c\">\n",
              "    <div class=\"colab-df-container\">\n",
              "      <div>\n",
              "<style scoped>\n",
              "    .dataframe tbody tr th:only-of-type {\n",
              "        vertical-align: middle;\n",
              "    }\n",
              "\n",
              "    .dataframe tbody tr th {\n",
              "        vertical-align: top;\n",
              "    }\n",
              "\n",
              "    .dataframe thead th {\n",
              "        text-align: right;\n",
              "    }\n",
              "</style>\n",
              "<table border=\"1\" class=\"dataframe\">\n",
              "  <thead>\n",
              "    <tr style=\"text-align: right;\">\n",
              "      <th></th>\n",
              "      <th>Seat No.</th>\n",
              "      <th>PH-121</th>\n",
              "      <th>HS-101</th>\n",
              "      <th>CY-105</th>\n",
              "      <th>HS-105/12</th>\n",
              "      <th>MT-111</th>\n",
              "      <th>CS-105</th>\n",
              "      <th>CS-106</th>\n",
              "      <th>EL-102</th>\n",
              "      <th>EE-119</th>\n",
              "      <th>...</th>\n",
              "      <th>CS-312</th>\n",
              "      <th>CS-317</th>\n",
              "      <th>CS-403</th>\n",
              "      <th>CS-421</th>\n",
              "      <th>CS-406</th>\n",
              "      <th>CS-414</th>\n",
              "      <th>CS-419</th>\n",
              "      <th>CS-423</th>\n",
              "      <th>CS-412</th>\n",
              "      <th>CGPA</th>\n",
              "    </tr>\n",
              "  </thead>\n",
              "  <tbody>\n",
              "    <tr>\n",
              "      <th>0</th>\n",
              "      <td>CS-97001</td>\n",
              "      <td>2.7</td>\n",
              "      <td>1.3</td>\n",
              "      <td>1.7</td>\n",
              "      <td>2.0</td>\n",
              "      <td>1.7</td>\n",
              "      <td>1.3</td>\n",
              "      <td>1.0</td>\n",
              "      <td>1.7</td>\n",
              "      <td>2.7</td>\n",
              "      <td>...</td>\n",
              "      <td>1.7</td>\n",
              "      <td>1.7</td>\n",
              "      <td>1.7</td>\n",
              "      <td>1.7</td>\n",
              "      <td>3.7</td>\n",
              "      <td>4.0</td>\n",
              "      <td>1.7</td>\n",
              "      <td>3.0</td>\n",
              "      <td>3.7</td>\n",
              "      <td>2.205</td>\n",
              "    </tr>\n",
              "    <tr>\n",
              "      <th>1</th>\n",
              "      <td>CS-97002</td>\n",
              "      <td>4.0</td>\n",
              "      <td>1.0</td>\n",
              "      <td>1.3</td>\n",
              "      <td>1.0</td>\n",
              "      <td>2.7</td>\n",
              "      <td>2.0</td>\n",
              "      <td>1.0</td>\n",
              "      <td>4.0</td>\n",
              "      <td>1.3</td>\n",
              "      <td>...</td>\n",
              "      <td>1.3</td>\n",
              "      <td>1.0</td>\n",
              "      <td>2.0</td>\n",
              "      <td>1.0</td>\n",
              "      <td>3.7</td>\n",
              "      <td>2.7</td>\n",
              "      <td>2.0</td>\n",
              "      <td>2.0</td>\n",
              "      <td>3.0</td>\n",
              "      <td>2.008</td>\n",
              "    </tr>\n",
              "    <tr>\n",
              "      <th>2</th>\n",
              "      <td>CS-97003</td>\n",
              "      <td>4.0</td>\n",
              "      <td>3.0</td>\n",
              "      <td>4.0</td>\n",
              "      <td>2.7</td>\n",
              "      <td>3.3</td>\n",
              "      <td>4.0</td>\n",
              "      <td>2.7</td>\n",
              "      <td>3.3</td>\n",
              "      <td>3.7</td>\n",
              "      <td>...</td>\n",
              "      <td>3.0</td>\n",
              "      <td>3.0</td>\n",
              "      <td>4.0</td>\n",
              "      <td>2.0</td>\n",
              "      <td>4.0</td>\n",
              "      <td>4.0</td>\n",
              "      <td>4.0</td>\n",
              "      <td>3.7</td>\n",
              "      <td>4.0</td>\n",
              "      <td>3.608</td>\n",
              "    </tr>\n",
              "    <tr>\n",
              "      <th>3</th>\n",
              "      <td>CS-97004</td>\n",
              "      <td>1.0</td>\n",
              "      <td>2.3</td>\n",
              "      <td>1.3</td>\n",
              "      <td>1.0</td>\n",
              "      <td>1.0</td>\n",
              "      <td>3.7</td>\n",
              "      <td>1.3</td>\n",
              "      <td>1.7</td>\n",
              "      <td>1.0</td>\n",
              "      <td>...</td>\n",
              "      <td>1.3</td>\n",
              "      <td>2.0</td>\n",
              "      <td>1.3</td>\n",
              "      <td>1.7</td>\n",
              "      <td>2.7</td>\n",
              "      <td>3.0</td>\n",
              "      <td>2.3</td>\n",
              "      <td>2.3</td>\n",
              "      <td>2.3</td>\n",
              "      <td>1.906</td>\n",
              "    </tr>\n",
              "    <tr>\n",
              "      <th>4</th>\n",
              "      <td>CS-97005</td>\n",
              "      <td>3.7</td>\n",
              "      <td>3.7</td>\n",
              "      <td>3.7</td>\n",
              "      <td>3.3</td>\n",
              "      <td>4.0</td>\n",
              "      <td>4.0</td>\n",
              "      <td>3.7</td>\n",
              "      <td>3.3</td>\n",
              "      <td>4.0</td>\n",
              "      <td>...</td>\n",
              "      <td>2.7</td>\n",
              "      <td>3.3</td>\n",
              "      <td>3.3</td>\n",
              "      <td>2.7</td>\n",
              "      <td>3.7</td>\n",
              "      <td>4.0</td>\n",
              "      <td>3.7</td>\n",
              "      <td>3.7</td>\n",
              "      <td>4.0</td>\n",
              "      <td>3.448</td>\n",
              "    </tr>\n",
              "    <tr>\n",
              "      <th>...</th>\n",
              "      <td>...</td>\n",
              "      <td>...</td>\n",
              "      <td>...</td>\n",
              "      <td>...</td>\n",
              "      <td>...</td>\n",
              "      <td>...</td>\n",
              "      <td>...</td>\n",
              "      <td>...</td>\n",
              "      <td>...</td>\n",
              "      <td>...</td>\n",
              "      <td>...</td>\n",
              "      <td>...</td>\n",
              "      <td>...</td>\n",
              "      <td>...</td>\n",
              "      <td>...</td>\n",
              "      <td>...</td>\n",
              "      <td>...</td>\n",
              "      <td>...</td>\n",
              "      <td>...</td>\n",
              "      <td>...</td>\n",
              "      <td>...</td>\n",
              "    </tr>\n",
              "    <tr>\n",
              "      <th>566</th>\n",
              "      <td>CS-97567</td>\n",
              "      <td>3.0</td>\n",
              "      <td>4.0</td>\n",
              "      <td>4.0</td>\n",
              "      <td>3.7</td>\n",
              "      <td>4.0</td>\n",
              "      <td>4.0</td>\n",
              "      <td>3.7</td>\n",
              "      <td>3.7</td>\n",
              "      <td>4.0</td>\n",
              "      <td>...</td>\n",
              "      <td>3.7</td>\n",
              "      <td>3.7</td>\n",
              "      <td>4.0</td>\n",
              "      <td>4.0</td>\n",
              "      <td>4.0</td>\n",
              "      <td>3.3</td>\n",
              "      <td>3.3</td>\n",
              "      <td>3.0</td>\n",
              "      <td>4.0</td>\n",
              "      <td>3.798</td>\n",
              "    </tr>\n",
              "    <tr>\n",
              "      <th>567</th>\n",
              "      <td>CS-97568</td>\n",
              "      <td>4.0</td>\n",
              "      <td>4.0</td>\n",
              "      <td>4.0</td>\n",
              "      <td>4.0</td>\n",
              "      <td>4.0</td>\n",
              "      <td>4.0</td>\n",
              "      <td>4.0</td>\n",
              "      <td>3.7</td>\n",
              "      <td>4.0</td>\n",
              "      <td>...</td>\n",
              "      <td>3.3</td>\n",
              "      <td>3.3</td>\n",
              "      <td>4.0</td>\n",
              "      <td>4.0</td>\n",
              "      <td>3.7</td>\n",
              "      <td>3.0</td>\n",
              "      <td>3.7</td>\n",
              "      <td>2.0</td>\n",
              "      <td>3.7</td>\n",
              "      <td>3.772</td>\n",
              "    </tr>\n",
              "    <tr>\n",
              "      <th>568</th>\n",
              "      <td>CS-97569</td>\n",
              "      <td>3.0</td>\n",
              "      <td>4.0</td>\n",
              "      <td>3.7</td>\n",
              "      <td>3.3</td>\n",
              "      <td>4.0</td>\n",
              "      <td>4.0</td>\n",
              "      <td>4.0</td>\n",
              "      <td>4.0</td>\n",
              "      <td>4.0</td>\n",
              "      <td>...</td>\n",
              "      <td>3.7</td>\n",
              "      <td>3.0</td>\n",
              "      <td>4.0</td>\n",
              "      <td>3.3</td>\n",
              "      <td>4.0</td>\n",
              "      <td>2.0</td>\n",
              "      <td>3.3</td>\n",
              "      <td>3.7</td>\n",
              "      <td>3.7</td>\n",
              "      <td>3.470</td>\n",
              "    </tr>\n",
              "    <tr>\n",
              "      <th>569</th>\n",
              "      <td>CS-97570</td>\n",
              "      <td>4.0</td>\n",
              "      <td>3.3</td>\n",
              "      <td>1.0</td>\n",
              "      <td>4.0</td>\n",
              "      <td>1.0</td>\n",
              "      <td>1.3</td>\n",
              "      <td>2.7</td>\n",
              "      <td>1.7</td>\n",
              "      <td>2.7</td>\n",
              "      <td>...</td>\n",
              "      <td>1.0</td>\n",
              "      <td>3.0</td>\n",
              "      <td>3.0</td>\n",
              "      <td>1.7</td>\n",
              "      <td>1.0</td>\n",
              "      <td>2.0</td>\n",
              "      <td>3.0</td>\n",
              "      <td>2.7</td>\n",
              "      <td>2.0</td>\n",
              "      <td>2.193</td>\n",
              "    </tr>\n",
              "    <tr>\n",
              "      <th>570</th>\n",
              "      <td>CS-97571</td>\n",
              "      <td>2.0</td>\n",
              "      <td>1.0</td>\n",
              "      <td>1.0</td>\n",
              "      <td>2.0</td>\n",
              "      <td>2.0</td>\n",
              "      <td>1.3</td>\n",
              "      <td>3.0</td>\n",
              "      <td>2.3</td>\n",
              "      <td>2.0</td>\n",
              "      <td>...</td>\n",
              "      <td>2.3</td>\n",
              "      <td>2.0</td>\n",
              "      <td>2.7</td>\n",
              "      <td>1.0</td>\n",
              "      <td>0.0</td>\n",
              "      <td>1.7</td>\n",
              "      <td>3.3</td>\n",
              "      <td>1.0</td>\n",
              "      <td>1.7</td>\n",
              "      <td>1.753</td>\n",
              "    </tr>\n",
              "  </tbody>\n",
              "</table>\n",
              "<p>571 rows × 43 columns</p>\n",
              "</div>\n",
              "      <button class=\"colab-df-convert\" onclick=\"convertToInteractive('df-2cf3f932-77b7-47db-8f60-cc6ae98f493c')\"\n",
              "              title=\"Convert this dataframe to an interactive table.\"\n",
              "              style=\"display:none;\">\n",
              "        \n",
              "  <svg xmlns=\"http://www.w3.org/2000/svg\" height=\"24px\"viewBox=\"0 0 24 24\"\n",
              "       width=\"24px\">\n",
              "    <path d=\"M0 0h24v24H0V0z\" fill=\"none\"/>\n",
              "    <path d=\"M18.56 5.44l.94 2.06.94-2.06 2.06-.94-2.06-.94-.94-2.06-.94 2.06-2.06.94zm-11 1L8.5 8.5l.94-2.06 2.06-.94-2.06-.94L8.5 2.5l-.94 2.06-2.06.94zm10 10l.94 2.06.94-2.06 2.06-.94-2.06-.94-.94-2.06-.94 2.06-2.06.94z\"/><path d=\"M17.41 7.96l-1.37-1.37c-.4-.4-.92-.59-1.43-.59-.52 0-1.04.2-1.43.59L10.3 9.45l-7.72 7.72c-.78.78-.78 2.05 0 2.83L4 21.41c.39.39.9.59 1.41.59.51 0 1.02-.2 1.41-.59l7.78-7.78 2.81-2.81c.8-.78.8-2.07 0-2.86zM5.41 20L4 18.59l7.72-7.72 1.47 1.35L5.41 20z\"/>\n",
              "  </svg>\n",
              "      </button>\n",
              "      \n",
              "  <style>\n",
              "    .colab-df-container {\n",
              "      display:flex;\n",
              "      flex-wrap:wrap;\n",
              "      gap: 12px;\n",
              "    }\n",
              "\n",
              "    .colab-df-convert {\n",
              "      background-color: #E8F0FE;\n",
              "      border: none;\n",
              "      border-radius: 50%;\n",
              "      cursor: pointer;\n",
              "      display: none;\n",
              "      fill: #1967D2;\n",
              "      height: 32px;\n",
              "      padding: 0 0 0 0;\n",
              "      width: 32px;\n",
              "    }\n",
              "\n",
              "    .colab-df-convert:hover {\n",
              "      background-color: #E2EBFA;\n",
              "      box-shadow: 0px 1px 2px rgba(60, 64, 67, 0.3), 0px 1px 3px 1px rgba(60, 64, 67, 0.15);\n",
              "      fill: #174EA6;\n",
              "    }\n",
              "\n",
              "    [theme=dark] .colab-df-convert {\n",
              "      background-color: #3B4455;\n",
              "      fill: #D2E3FC;\n",
              "    }\n",
              "\n",
              "    [theme=dark] .colab-df-convert:hover {\n",
              "      background-color: #434B5C;\n",
              "      box-shadow: 0px 1px 3px 1px rgba(0, 0, 0, 0.15);\n",
              "      filter: drop-shadow(0px 1px 2px rgba(0, 0, 0, 0.3));\n",
              "      fill: #FFFFFF;\n",
              "    }\n",
              "  </style>\n",
              "\n",
              "      <script>\n",
              "        const buttonEl =\n",
              "          document.querySelector('#df-2cf3f932-77b7-47db-8f60-cc6ae98f493c button.colab-df-convert');\n",
              "        buttonEl.style.display =\n",
              "          google.colab.kernel.accessAllowed ? 'block' : 'none';\n",
              "\n",
              "        async function convertToInteractive(key) {\n",
              "          const element = document.querySelector('#df-2cf3f932-77b7-47db-8f60-cc6ae98f493c');\n",
              "          const dataTable =\n",
              "            await google.colab.kernel.invokeFunction('convertToInteractive',\n",
              "                                                     [key], {});\n",
              "          if (!dataTable) return;\n",
              "\n",
              "          const docLinkHtml = 'Like what you see? Visit the ' +\n",
              "            '<a target=\"_blank\" href=https://colab.research.google.com/notebooks/data_table.ipynb>data table notebook</a>'\n",
              "            + ' to learn more about interactive tables.';\n",
              "          element.innerHTML = '';\n",
              "          dataTable['output_type'] = 'display_data';\n",
              "          await google.colab.output.renderOutput(dataTable, element);\n",
              "          const docLink = document.createElement('div');\n",
              "          docLink.innerHTML = docLinkHtml;\n",
              "          element.appendChild(docLink);\n",
              "        }\n",
              "      </script>\n",
              "    </div>\n",
              "  </div>\n",
              "  "
            ]
          },
          "metadata": {},
          "execution_count": 31
        }
      ],
      "source": [
        "data #data containing GPs instead of Grades"
      ]
    },
    {
      "cell_type": "code",
      "execution_count": null,
      "id": "daddb4c2",
      "metadata": {
        "id": "daddb4c2"
      },
      "outputs": [],
      "source": [
        "data.to_csv('newgpadata.csv',index=False) #moving updated dataset to new csv for performing data preprocessing"
      ]
    },
    {
      "cell_type": "code",
      "execution_count": null,
      "id": "402a3d7c",
      "metadata": {
        "colab": {
          "base_uri": "https://localhost:8080/",
          "height": 658
        },
        "id": "402a3d7c",
        "outputId": "09348627-a542-4b84-cac8-246b332bc2b8"
      },
      "outputs": [
        {
          "output_type": "execute_result",
          "data": {
            "text/plain": [
              "     Seat No.  PH-121  HS-101  CY-105  HS-105/12  MT-111  CS-105  CS-106  \\\n",
              "0    CS-97001     2.7     1.3     1.7        2.0     1.7     1.3     1.0   \n",
              "1    CS-97002     4.0     1.0     1.3        1.0     2.7     2.0     1.0   \n",
              "2    CS-97003     4.0     3.0     4.0        2.7     3.3     4.0     2.7   \n",
              "3    CS-97004     1.0     2.3     1.3        1.0     1.0     3.7     1.3   \n",
              "4    CS-97005     3.7     3.7     3.7        3.3     4.0     4.0     3.7   \n",
              "..        ...     ...     ...     ...        ...     ...     ...     ...   \n",
              "566  CS-97567     3.0     4.0     4.0        3.7     4.0     4.0     3.7   \n",
              "567  CS-97568     4.0     4.0     4.0        4.0     4.0     4.0     4.0   \n",
              "568  CS-97569     3.0     4.0     3.7        3.3     4.0     4.0     4.0   \n",
              "569  CS-97570     4.0     3.3     1.0        4.0     1.0     1.3     2.7   \n",
              "570  CS-97571     2.0     1.0     1.0        2.0     2.0     1.3     3.0   \n",
              "\n",
              "     EL-102  EE-119  ...  CS-312  CS-317  CS-403  CS-421  CS-406  CS-414  \\\n",
              "0       1.7     2.7  ...     1.7     1.7     1.7     1.7     3.7     4.0   \n",
              "1       4.0     1.3  ...     1.3     1.0     2.0     1.0     3.7     2.7   \n",
              "2       3.3     3.7  ...     3.0     3.0     4.0     2.0     4.0     4.0   \n",
              "3       1.7     1.0  ...     1.3     2.0     1.3     1.7     2.7     3.0   \n",
              "4       3.3     4.0  ...     2.7     3.3     3.3     2.7     3.7     4.0   \n",
              "..      ...     ...  ...     ...     ...     ...     ...     ...     ...   \n",
              "566     3.7     4.0  ...     3.7     3.7     4.0     4.0     4.0     3.3   \n",
              "567     3.7     4.0  ...     3.3     3.3     4.0     4.0     3.7     3.0   \n",
              "568     4.0     4.0  ...     3.7     3.0     4.0     3.3     4.0     2.0   \n",
              "569     1.7     2.7  ...     1.0     3.0     3.0     1.7     1.0     2.0   \n",
              "570     2.3     2.0  ...     2.3     2.0     2.7     1.0     0.0     1.7   \n",
              "\n",
              "     CS-419  CS-423  CS-412   CGPA  \n",
              "0       1.7     3.0     3.7  2.205  \n",
              "1       2.0     2.0     3.0  2.008  \n",
              "2       4.0     3.7     4.0  3.608  \n",
              "3       2.3     2.3     2.3  1.906  \n",
              "4       3.7     3.7     4.0  3.448  \n",
              "..      ...     ...     ...    ...  \n",
              "566     3.3     3.0     4.0  3.798  \n",
              "567     3.7     2.0     3.7  3.772  \n",
              "568     3.3     3.7     3.7  3.470  \n",
              "569     3.0     2.7     2.0  2.193  \n",
              "570     3.3     1.0     1.7  1.753  \n",
              "\n",
              "[571 rows x 43 columns]"
            ],
            "text/html": [
              "\n",
              "  <div id=\"df-3a1b9ed8-917f-4a88-b446-53985cf8cd69\">\n",
              "    <div class=\"colab-df-container\">\n",
              "      <div>\n",
              "<style scoped>\n",
              "    .dataframe tbody tr th:only-of-type {\n",
              "        vertical-align: middle;\n",
              "    }\n",
              "\n",
              "    .dataframe tbody tr th {\n",
              "        vertical-align: top;\n",
              "    }\n",
              "\n",
              "    .dataframe thead th {\n",
              "        text-align: right;\n",
              "    }\n",
              "</style>\n",
              "<table border=\"1\" class=\"dataframe\">\n",
              "  <thead>\n",
              "    <tr style=\"text-align: right;\">\n",
              "      <th></th>\n",
              "      <th>Seat No.</th>\n",
              "      <th>PH-121</th>\n",
              "      <th>HS-101</th>\n",
              "      <th>CY-105</th>\n",
              "      <th>HS-105/12</th>\n",
              "      <th>MT-111</th>\n",
              "      <th>CS-105</th>\n",
              "      <th>CS-106</th>\n",
              "      <th>EL-102</th>\n",
              "      <th>EE-119</th>\n",
              "      <th>...</th>\n",
              "      <th>CS-312</th>\n",
              "      <th>CS-317</th>\n",
              "      <th>CS-403</th>\n",
              "      <th>CS-421</th>\n",
              "      <th>CS-406</th>\n",
              "      <th>CS-414</th>\n",
              "      <th>CS-419</th>\n",
              "      <th>CS-423</th>\n",
              "      <th>CS-412</th>\n",
              "      <th>CGPA</th>\n",
              "    </tr>\n",
              "  </thead>\n",
              "  <tbody>\n",
              "    <tr>\n",
              "      <th>0</th>\n",
              "      <td>CS-97001</td>\n",
              "      <td>2.7</td>\n",
              "      <td>1.3</td>\n",
              "      <td>1.7</td>\n",
              "      <td>2.0</td>\n",
              "      <td>1.7</td>\n",
              "      <td>1.3</td>\n",
              "      <td>1.0</td>\n",
              "      <td>1.7</td>\n",
              "      <td>2.7</td>\n",
              "      <td>...</td>\n",
              "      <td>1.7</td>\n",
              "      <td>1.7</td>\n",
              "      <td>1.7</td>\n",
              "      <td>1.7</td>\n",
              "      <td>3.7</td>\n",
              "      <td>4.0</td>\n",
              "      <td>1.7</td>\n",
              "      <td>3.0</td>\n",
              "      <td>3.7</td>\n",
              "      <td>2.205</td>\n",
              "    </tr>\n",
              "    <tr>\n",
              "      <th>1</th>\n",
              "      <td>CS-97002</td>\n",
              "      <td>4.0</td>\n",
              "      <td>1.0</td>\n",
              "      <td>1.3</td>\n",
              "      <td>1.0</td>\n",
              "      <td>2.7</td>\n",
              "      <td>2.0</td>\n",
              "      <td>1.0</td>\n",
              "      <td>4.0</td>\n",
              "      <td>1.3</td>\n",
              "      <td>...</td>\n",
              "      <td>1.3</td>\n",
              "      <td>1.0</td>\n",
              "      <td>2.0</td>\n",
              "      <td>1.0</td>\n",
              "      <td>3.7</td>\n",
              "      <td>2.7</td>\n",
              "      <td>2.0</td>\n",
              "      <td>2.0</td>\n",
              "      <td>3.0</td>\n",
              "      <td>2.008</td>\n",
              "    </tr>\n",
              "    <tr>\n",
              "      <th>2</th>\n",
              "      <td>CS-97003</td>\n",
              "      <td>4.0</td>\n",
              "      <td>3.0</td>\n",
              "      <td>4.0</td>\n",
              "      <td>2.7</td>\n",
              "      <td>3.3</td>\n",
              "      <td>4.0</td>\n",
              "      <td>2.7</td>\n",
              "      <td>3.3</td>\n",
              "      <td>3.7</td>\n",
              "      <td>...</td>\n",
              "      <td>3.0</td>\n",
              "      <td>3.0</td>\n",
              "      <td>4.0</td>\n",
              "      <td>2.0</td>\n",
              "      <td>4.0</td>\n",
              "      <td>4.0</td>\n",
              "      <td>4.0</td>\n",
              "      <td>3.7</td>\n",
              "      <td>4.0</td>\n",
              "      <td>3.608</td>\n",
              "    </tr>\n",
              "    <tr>\n",
              "      <th>3</th>\n",
              "      <td>CS-97004</td>\n",
              "      <td>1.0</td>\n",
              "      <td>2.3</td>\n",
              "      <td>1.3</td>\n",
              "      <td>1.0</td>\n",
              "      <td>1.0</td>\n",
              "      <td>3.7</td>\n",
              "      <td>1.3</td>\n",
              "      <td>1.7</td>\n",
              "      <td>1.0</td>\n",
              "      <td>...</td>\n",
              "      <td>1.3</td>\n",
              "      <td>2.0</td>\n",
              "      <td>1.3</td>\n",
              "      <td>1.7</td>\n",
              "      <td>2.7</td>\n",
              "      <td>3.0</td>\n",
              "      <td>2.3</td>\n",
              "      <td>2.3</td>\n",
              "      <td>2.3</td>\n",
              "      <td>1.906</td>\n",
              "    </tr>\n",
              "    <tr>\n",
              "      <th>4</th>\n",
              "      <td>CS-97005</td>\n",
              "      <td>3.7</td>\n",
              "      <td>3.7</td>\n",
              "      <td>3.7</td>\n",
              "      <td>3.3</td>\n",
              "      <td>4.0</td>\n",
              "      <td>4.0</td>\n",
              "      <td>3.7</td>\n",
              "      <td>3.3</td>\n",
              "      <td>4.0</td>\n",
              "      <td>...</td>\n",
              "      <td>2.7</td>\n",
              "      <td>3.3</td>\n",
              "      <td>3.3</td>\n",
              "      <td>2.7</td>\n",
              "      <td>3.7</td>\n",
              "      <td>4.0</td>\n",
              "      <td>3.7</td>\n",
              "      <td>3.7</td>\n",
              "      <td>4.0</td>\n",
              "      <td>3.448</td>\n",
              "    </tr>\n",
              "    <tr>\n",
              "      <th>...</th>\n",
              "      <td>...</td>\n",
              "      <td>...</td>\n",
              "      <td>...</td>\n",
              "      <td>...</td>\n",
              "      <td>...</td>\n",
              "      <td>...</td>\n",
              "      <td>...</td>\n",
              "      <td>...</td>\n",
              "      <td>...</td>\n",
              "      <td>...</td>\n",
              "      <td>...</td>\n",
              "      <td>...</td>\n",
              "      <td>...</td>\n",
              "      <td>...</td>\n",
              "      <td>...</td>\n",
              "      <td>...</td>\n",
              "      <td>...</td>\n",
              "      <td>...</td>\n",
              "      <td>...</td>\n",
              "      <td>...</td>\n",
              "      <td>...</td>\n",
              "    </tr>\n",
              "    <tr>\n",
              "      <th>566</th>\n",
              "      <td>CS-97567</td>\n",
              "      <td>3.0</td>\n",
              "      <td>4.0</td>\n",
              "      <td>4.0</td>\n",
              "      <td>3.7</td>\n",
              "      <td>4.0</td>\n",
              "      <td>4.0</td>\n",
              "      <td>3.7</td>\n",
              "      <td>3.7</td>\n",
              "      <td>4.0</td>\n",
              "      <td>...</td>\n",
              "      <td>3.7</td>\n",
              "      <td>3.7</td>\n",
              "      <td>4.0</td>\n",
              "      <td>4.0</td>\n",
              "      <td>4.0</td>\n",
              "      <td>3.3</td>\n",
              "      <td>3.3</td>\n",
              "      <td>3.0</td>\n",
              "      <td>4.0</td>\n",
              "      <td>3.798</td>\n",
              "    </tr>\n",
              "    <tr>\n",
              "      <th>567</th>\n",
              "      <td>CS-97568</td>\n",
              "      <td>4.0</td>\n",
              "      <td>4.0</td>\n",
              "      <td>4.0</td>\n",
              "      <td>4.0</td>\n",
              "      <td>4.0</td>\n",
              "      <td>4.0</td>\n",
              "      <td>4.0</td>\n",
              "      <td>3.7</td>\n",
              "      <td>4.0</td>\n",
              "      <td>...</td>\n",
              "      <td>3.3</td>\n",
              "      <td>3.3</td>\n",
              "      <td>4.0</td>\n",
              "      <td>4.0</td>\n",
              "      <td>3.7</td>\n",
              "      <td>3.0</td>\n",
              "      <td>3.7</td>\n",
              "      <td>2.0</td>\n",
              "      <td>3.7</td>\n",
              "      <td>3.772</td>\n",
              "    </tr>\n",
              "    <tr>\n",
              "      <th>568</th>\n",
              "      <td>CS-97569</td>\n",
              "      <td>3.0</td>\n",
              "      <td>4.0</td>\n",
              "      <td>3.7</td>\n",
              "      <td>3.3</td>\n",
              "      <td>4.0</td>\n",
              "      <td>4.0</td>\n",
              "      <td>4.0</td>\n",
              "      <td>4.0</td>\n",
              "      <td>4.0</td>\n",
              "      <td>...</td>\n",
              "      <td>3.7</td>\n",
              "      <td>3.0</td>\n",
              "      <td>4.0</td>\n",
              "      <td>3.3</td>\n",
              "      <td>4.0</td>\n",
              "      <td>2.0</td>\n",
              "      <td>3.3</td>\n",
              "      <td>3.7</td>\n",
              "      <td>3.7</td>\n",
              "      <td>3.470</td>\n",
              "    </tr>\n",
              "    <tr>\n",
              "      <th>569</th>\n",
              "      <td>CS-97570</td>\n",
              "      <td>4.0</td>\n",
              "      <td>3.3</td>\n",
              "      <td>1.0</td>\n",
              "      <td>4.0</td>\n",
              "      <td>1.0</td>\n",
              "      <td>1.3</td>\n",
              "      <td>2.7</td>\n",
              "      <td>1.7</td>\n",
              "      <td>2.7</td>\n",
              "      <td>...</td>\n",
              "      <td>1.0</td>\n",
              "      <td>3.0</td>\n",
              "      <td>3.0</td>\n",
              "      <td>1.7</td>\n",
              "      <td>1.0</td>\n",
              "      <td>2.0</td>\n",
              "      <td>3.0</td>\n",
              "      <td>2.7</td>\n",
              "      <td>2.0</td>\n",
              "      <td>2.193</td>\n",
              "    </tr>\n",
              "    <tr>\n",
              "      <th>570</th>\n",
              "      <td>CS-97571</td>\n",
              "      <td>2.0</td>\n",
              "      <td>1.0</td>\n",
              "      <td>1.0</td>\n",
              "      <td>2.0</td>\n",
              "      <td>2.0</td>\n",
              "      <td>1.3</td>\n",
              "      <td>3.0</td>\n",
              "      <td>2.3</td>\n",
              "      <td>2.0</td>\n",
              "      <td>...</td>\n",
              "      <td>2.3</td>\n",
              "      <td>2.0</td>\n",
              "      <td>2.7</td>\n",
              "      <td>1.0</td>\n",
              "      <td>0.0</td>\n",
              "      <td>1.7</td>\n",
              "      <td>3.3</td>\n",
              "      <td>1.0</td>\n",
              "      <td>1.7</td>\n",
              "      <td>1.753</td>\n",
              "    </tr>\n",
              "  </tbody>\n",
              "</table>\n",
              "<p>571 rows × 43 columns</p>\n",
              "</div>\n",
              "      <button class=\"colab-df-convert\" onclick=\"convertToInteractive('df-3a1b9ed8-917f-4a88-b446-53985cf8cd69')\"\n",
              "              title=\"Convert this dataframe to an interactive table.\"\n",
              "              style=\"display:none;\">\n",
              "        \n",
              "  <svg xmlns=\"http://www.w3.org/2000/svg\" height=\"24px\"viewBox=\"0 0 24 24\"\n",
              "       width=\"24px\">\n",
              "    <path d=\"M0 0h24v24H0V0z\" fill=\"none\"/>\n",
              "    <path d=\"M18.56 5.44l.94 2.06.94-2.06 2.06-.94-2.06-.94-.94-2.06-.94 2.06-2.06.94zm-11 1L8.5 8.5l.94-2.06 2.06-.94-2.06-.94L8.5 2.5l-.94 2.06-2.06.94zm10 10l.94 2.06.94-2.06 2.06-.94-2.06-.94-.94-2.06-.94 2.06-2.06.94z\"/><path d=\"M17.41 7.96l-1.37-1.37c-.4-.4-.92-.59-1.43-.59-.52 0-1.04.2-1.43.59L10.3 9.45l-7.72 7.72c-.78.78-.78 2.05 0 2.83L4 21.41c.39.39.9.59 1.41.59.51 0 1.02-.2 1.41-.59l7.78-7.78 2.81-2.81c.8-.78.8-2.07 0-2.86zM5.41 20L4 18.59l7.72-7.72 1.47 1.35L5.41 20z\"/>\n",
              "  </svg>\n",
              "      </button>\n",
              "      \n",
              "  <style>\n",
              "    .colab-df-container {\n",
              "      display:flex;\n",
              "      flex-wrap:wrap;\n",
              "      gap: 12px;\n",
              "    }\n",
              "\n",
              "    .colab-df-convert {\n",
              "      background-color: #E8F0FE;\n",
              "      border: none;\n",
              "      border-radius: 50%;\n",
              "      cursor: pointer;\n",
              "      display: none;\n",
              "      fill: #1967D2;\n",
              "      height: 32px;\n",
              "      padding: 0 0 0 0;\n",
              "      width: 32px;\n",
              "    }\n",
              "\n",
              "    .colab-df-convert:hover {\n",
              "      background-color: #E2EBFA;\n",
              "      box-shadow: 0px 1px 2px rgba(60, 64, 67, 0.3), 0px 1px 3px 1px rgba(60, 64, 67, 0.15);\n",
              "      fill: #174EA6;\n",
              "    }\n",
              "\n",
              "    [theme=dark] .colab-df-convert {\n",
              "      background-color: #3B4455;\n",
              "      fill: #D2E3FC;\n",
              "    }\n",
              "\n",
              "    [theme=dark] .colab-df-convert:hover {\n",
              "      background-color: #434B5C;\n",
              "      box-shadow: 0px 1px 3px 1px rgba(0, 0, 0, 0.15);\n",
              "      filter: drop-shadow(0px 1px 2px rgba(0, 0, 0, 0.3));\n",
              "      fill: #FFFFFF;\n",
              "    }\n",
              "  </style>\n",
              "\n",
              "      <script>\n",
              "        const buttonEl =\n",
              "          document.querySelector('#df-3a1b9ed8-917f-4a88-b446-53985cf8cd69 button.colab-df-convert');\n",
              "        buttonEl.style.display =\n",
              "          google.colab.kernel.accessAllowed ? 'block' : 'none';\n",
              "\n",
              "        async function convertToInteractive(key) {\n",
              "          const element = document.querySelector('#df-3a1b9ed8-917f-4a88-b446-53985cf8cd69');\n",
              "          const dataTable =\n",
              "            await google.colab.kernel.invokeFunction('convertToInteractive',\n",
              "                                                     [key], {});\n",
              "          if (!dataTable) return;\n",
              "\n",
              "          const docLinkHtml = 'Like what you see? Visit the ' +\n",
              "            '<a target=\"_blank\" href=https://colab.research.google.com/notebooks/data_table.ipynb>data table notebook</a>'\n",
              "            + ' to learn more about interactive tables.';\n",
              "          element.innerHTML = '';\n",
              "          dataTable['output_type'] = 'display_data';\n",
              "          await google.colab.output.renderOutput(dataTable, element);\n",
              "          const docLink = document.createElement('div');\n",
              "          docLink.innerHTML = docLinkHtml;\n",
              "          element.appendChild(docLink);\n",
              "        }\n",
              "      </script>\n",
              "    </div>\n",
              "  </div>\n",
              "  "
            ]
          },
          "metadata": {},
          "execution_count": 33
        }
      ],
      "source": [
        "data=pd.read_csv('newgpadata.csv')\n",
        "data"
      ]
    },
    {
      "cell_type": "code",
      "execution_count": null,
      "id": "44410fe1",
      "metadata": {
        "colab": {
          "base_uri": "https://localhost:8080/"
        },
        "id": "44410fe1",
        "outputId": "ef894366-cf4b-4822-fb1f-e8b7305f7ba7"
      },
      "outputs": [
        {
          "output_type": "execute_result",
          "data": {
            "text/plain": [
              "Index(['CY-105', 'HS-105/12', 'MT-111', 'CS-106', 'EL-102', 'EE-119', 'ME-107',\n",
              "       'CS-107', 'HS-205/20', 'MT-222', 'EE-222', 'MT-224', 'CS-210', 'CS-211',\n",
              "       'CS-203', 'CS-214', 'EE-217', 'CS-212', 'CS-215', 'MT-331', 'EF-303',\n",
              "       'HS-304', 'CS-301', 'CS-302', 'TC-383', 'MT-442', 'EL-332', 'CS-318',\n",
              "       'CS-306', 'CS-312', 'CS-317', 'CS-403', 'CS-421', 'CS-406', 'CS-414',\n",
              "       'CS-419', 'CS-423', 'CS-412'],\n",
              "      dtype='object')"
            ]
          },
          "metadata": {},
          "execution_count": 34
        }
      ],
      "source": [
        "data.columns[data.isna().any()] #Checking which columns containing NA data.\n"
      ]
    },
    {
      "cell_type": "code",
      "execution_count": null,
      "id": "444fc781",
      "metadata": {
        "colab": {
          "base_uri": "https://localhost:8080/"
        },
        "id": "444fc781",
        "outputId": "7058fa71-d199-40d1-c0be-c9999513cbc9"
      },
      "outputs": [
        {
          "output_type": "stream",
          "name": "stderr",
          "text": [
            "/usr/local/lib/python3.7/dist-packages/ipykernel_launcher.py:1: FutureWarning: Dropping of nuisance columns in DataFrame reductions (with 'numeric_only=None') is deprecated; in a future version this will raise TypeError.  Select only valid columns before calling the reduction.\n",
            "  \"\"\"Entry point for launching an IPython kernel.\n"
          ]
        }
      ],
      "source": [
        "data.fillna(data.mean().round(1), inplace=True) #Fill NA/NaN values using the inplace method."
      ]
    },
    {
      "cell_type": "code",
      "execution_count": null,
      "id": "8614d775",
      "metadata": {
        "colab": {
          "base_uri": "https://localhost:8080/"
        },
        "id": "8614d775",
        "outputId": "7cbf5680-963e-4681-92e8-0590b7d00282"
      },
      "outputs": [
        {
          "output_type": "execute_result",
          "data": {
            "text/plain": [
              "Index([], dtype='object')"
            ]
          },
          "metadata": {},
          "execution_count": 36
        }
      ],
      "source": [
        "data.columns[data.isna().any()] #Checking which columns containing NA data.\n"
      ]
    },
    {
      "cell_type": "code",
      "execution_count": null,
      "id": "280450bb",
      "metadata": {
        "id": "280450bb"
      },
      "outputs": [],
      "source": [
        "x = data.drop([\"CGPA\",\"Seat No.\"], axis=\"columns\") # Train model\n",
        "y = data['CGPA']"
      ]
    },
    {
      "cell_type": "code",
      "execution_count": null,
      "id": "Q4v_FswzF3UX",
      "metadata": {
        "colab": {
          "base_uri": "https://localhost:8080/"
        },
        "id": "Q4v_FswzF3UX",
        "outputId": "1671e960-6cf8-4026-b151-ab416c1183e6"
      },
      "outputs": [
        {
          "output_type": "stream",
          "name": "stdout",
          "text": [
            "     PH-121  HS-101  CY-105  HS-105/12  MT-111  CS-105  CS-106  EL-102  \\\n",
            "268     4.0     3.7     3.3        3.7     3.7     3.7     3.3     3.7   \n",
            "239     4.0     3.3     4.0        4.0     3.7     4.0     3.7     4.0   \n",
            "521     1.7     1.3     2.7        2.0     2.7     2.0     3.0     1.7   \n",
            "330     1.0     2.3     3.3        1.3     2.7     1.7     4.0     3.7   \n",
            "140     4.0     2.7     3.3        3.0     3.7     3.7     4.0     4.0   \n",
            "..      ...     ...     ...        ...     ...     ...     ...     ...   \n",
            "277     3.3     1.3     1.3        3.0     1.3     4.0     3.7     3.0   \n",
            "9       4.0     3.0     2.3        3.0     3.0     3.7     2.0     2.7   \n",
            "359     3.7     3.7     4.0        3.3     4.0     4.0     3.3     4.0   \n",
            "192     4.0     4.0     4.0        4.0     4.0     4.0     4.0     3.7   \n",
            "559     3.7     2.3     4.0        3.0     3.0     3.7     2.3     1.0   \n",
            "\n",
            "     EE-119  ME-107  ...  CS-306  CS-312  CS-317  CS-403  CS-421  CS-406  \\\n",
            "268     3.7     2.0  ...     3.7     3.7     3.0     4.0     2.7     3.0   \n",
            "239     3.7     4.0  ...     3.7     3.0     3.7     3.0     2.7     3.7   \n",
            "521     3.3     2.3  ...     3.3     1.0     1.7     3.7     1.3     0.0   \n",
            "330     1.3     1.0  ...     2.7     4.0     2.7     3.3     2.3     3.2   \n",
            "140     4.0     1.7  ...     3.3     2.7     3.0     3.7     2.3     3.7   \n",
            "..      ...     ...  ...     ...     ...     ...     ...     ...     ...   \n",
            "277     2.3     1.7  ...     3.0     2.0     2.7     3.0     2.3     3.3   \n",
            "9       3.7     4.0  ...     3.7     2.3     2.7     3.3     2.7     4.0   \n",
            "359     3.3     3.3  ...     4.0     4.0     3.7     4.0     3.0     3.2   \n",
            "192     3.7     4.0  ...     4.0     4.0     4.0     4.0     3.0     3.7   \n",
            "559     3.0     3.7  ...     2.7     3.3     2.7     4.0     3.7     4.0   \n",
            "\n",
            "     CS-414  CS-419  CS-423  CS-412  \n",
            "268     3.7     3.7     3.7     3.7  \n",
            "239     4.0     3.0     3.3     4.0  \n",
            "521     2.0     2.7     1.7     1.3  \n",
            "330     3.7     2.3     3.3     2.7  \n",
            "140     4.0     4.0     3.7     4.0  \n",
            "..      ...     ...     ...     ...  \n",
            "277     3.7     1.7     2.0     3.7  \n",
            "9       4.0     3.7     3.0     4.0  \n",
            "359     4.0     3.7     4.0     3.3  \n",
            "192     3.7     4.0     3.7     3.7  \n",
            "559     2.0     3.3     3.3     3.7  \n",
            "\n",
            "[456 rows x 41 columns] 268    3.473\n",
            "239    3.573\n",
            "521    1.863\n",
            "330    2.599\n",
            "140    3.363\n",
            "       ...  \n",
            "277    2.705\n",
            "9      3.247\n",
            "359    3.806\n",
            "192    3.882\n",
            "559    3.226\n",
            "Name: CGPA, Length: 456, dtype: float64\n"
          ]
        }
      ],
      "source": [
        "from sklearn.model_selection import train_test_split\n",
        "x_train,x_test,y_train,y_test=train_test_split(x, y,test_size=0.2,random_state=0)\n",
        "print(x_train,y_train)"
      ]
    },
    {
      "cell_type": "code",
      "execution_count": null,
      "id": "619c0433",
      "metadata": {
        "id": "619c0433"
      },
      "outputs": [],
      "source": [
        "# Preprocessing for model_1\n",
        "x1 = data.drop([\"CGPA\",\"Seat No.\",\"HS-205/20\",\"MT-222\",\"EE-222\",\"MT-224\",\"CS-210\",\"CS-211\",\"CS-203\",\"CS-214\",\"EE-217\",\"CS-212\",\"CS-215\",\"MT-331\",\"EF-303\",\"HS-304\",\"CS-301\",\"CS-302\",\"TC-383\",\"MT-442\",\"EL-332\",\"CS-318\",\"CS-306\",\"CS-312\",\"CS-317\",\"CS-403\",\"CS-421\",\"CS-406\",\"CS-414\",\"CS-419\",\"CS-423\",\"CS-412\",\"CS-423\",\"CS-412\"], axis=\"columns\")\n",
        "y1 = data['CGPA']"
      ]
    },
    {
      "cell_type": "code",
      "execution_count": null,
      "id": "1629c2e0",
      "metadata": {
        "colab": {
          "base_uri": "https://localhost:8080/"
        },
        "id": "1629c2e0",
        "outputId": "60019c75-1f7e-425a-85ed-b84be6402f7a"
      },
      "outputs": [
        {
          "output_type": "stream",
          "name": "stdout",
          "text": [
            "     PH-121  HS-101  CY-105  HS-105/12  MT-111  CS-105  CS-106  EL-102  \\\n",
            "268     4.0     3.7     3.3        3.7     3.7     3.7     3.3     3.7   \n",
            "239     4.0     3.3     4.0        4.0     3.7     4.0     3.7     4.0   \n",
            "521     1.7     1.3     2.7        2.0     2.7     2.0     3.0     1.7   \n",
            "330     1.0     2.3     3.3        1.3     2.7     1.7     4.0     3.7   \n",
            "140     4.0     2.7     3.3        3.0     3.7     3.7     4.0     4.0   \n",
            "..      ...     ...     ...        ...     ...     ...     ...     ...   \n",
            "277     3.3     1.3     1.3        3.0     1.3     4.0     3.7     3.0   \n",
            "9       4.0     3.0     2.3        3.0     3.0     3.7     2.0     2.7   \n",
            "359     3.7     3.7     4.0        3.3     4.0     4.0     3.3     4.0   \n",
            "192     4.0     4.0     4.0        4.0     4.0     4.0     4.0     3.7   \n",
            "559     3.7     2.3     4.0        3.0     3.0     3.7     2.3     1.0   \n",
            "\n",
            "     EE-119  ME-107  CS-107  \n",
            "268     3.7     2.0     4.0  \n",
            "239     3.7     4.0     4.0  \n",
            "521     3.3     2.3     1.7  \n",
            "330     1.3     1.0     1.7  \n",
            "140     4.0     1.7     3.7  \n",
            "..      ...     ...     ...  \n",
            "277     2.3     1.7     3.7  \n",
            "9       3.7     4.0     2.3  \n",
            "359     3.3     3.3     4.0  \n",
            "192     3.7     4.0     4.0  \n",
            "559     3.0     3.7     3.7  \n",
            "\n",
            "[456 rows x 11 columns] 268    3.473\n",
            "239    3.573\n",
            "521    1.863\n",
            "330    2.599\n",
            "140    3.363\n",
            "       ...  \n",
            "277    2.705\n",
            "9      3.247\n",
            "359    3.806\n",
            "192    3.882\n",
            "559    3.226\n",
            "Name: CGPA, Length: 456, dtype: float64\n"
          ]
        }
      ],
      "source": [
        "from sklearn.model_selection import train_test_split\n",
        "x1_train,x1_test,y1_train,y1_test=train_test_split(x1, y1,test_size=0.2,random_state=0)\n",
        "print(x1_train,y1_train)"
      ]
    },
    {
      "cell_type": "code",
      "execution_count": null,
      "id": "b010645b",
      "metadata": {
        "id": "b010645b"
      },
      "outputs": [],
      "source": [
        "# Preprocessing for model_2\n",
        "x2 = data.drop([\"CGPA\",\"Seat No.\",\"MT-331\",\"EF-303\",\"HS-304\",\"CS-301\",\"CS-302\",\"TC-383\",\"MT-442\",\"EL-332\",\"CS-318\",\"CS-306\",\"CS-312\",\"CS-317\",\"CS-403\",\"CS-421\",\"CS-406\",\"CS-414\",\"CS-419\",\"CS-423\",\"CS-412\",\"CS-423\",\"CS-412\"], axis=\"columns\")\n",
        "y2 = data['CGPA']"
      ]
    },
    {
      "cell_type": "code",
      "execution_count": null,
      "id": "763fbf98",
      "metadata": {
        "colab": {
          "base_uri": "https://localhost:8080/"
        },
        "id": "763fbf98",
        "outputId": "03e7f5d4-be65-40d3-8f1f-49652921edbd"
      },
      "outputs": [
        {
          "output_type": "stream",
          "name": "stdout",
          "text": [
            "     PH-121  HS-101  CY-105  HS-105/12  MT-111  CS-105  CS-106  EL-102  \\\n",
            "268     4.0     3.7     3.3        3.7     3.7     3.7     3.3     3.7   \n",
            "239     4.0     3.3     4.0        4.0     3.7     4.0     3.7     4.0   \n",
            "521     1.7     1.3     2.7        2.0     2.7     2.0     3.0     1.7   \n",
            "330     1.0     2.3     3.3        1.3     2.7     1.7     4.0     3.7   \n",
            "140     4.0     2.7     3.3        3.0     3.7     3.7     4.0     4.0   \n",
            "..      ...     ...     ...        ...     ...     ...     ...     ...   \n",
            "277     3.3     1.3     1.3        3.0     1.3     4.0     3.7     3.0   \n",
            "9       4.0     3.0     2.3        3.0     3.0     3.7     2.0     2.7   \n",
            "359     3.7     3.7     4.0        3.3     4.0     4.0     3.3     4.0   \n",
            "192     4.0     4.0     4.0        4.0     4.0     4.0     4.0     3.7   \n",
            "559     3.7     2.3     4.0        3.0     3.0     3.7     2.3     1.0   \n",
            "\n",
            "     EE-119  ME-107  ...  MT-222  EE-222  MT-224  CS-210  CS-211  CS-203  \\\n",
            "268     3.7     2.0  ...     3.7     4.0     3.7     3.7     2.0     3.7   \n",
            "239     3.7     4.0  ...     4.0     4.0     3.7     4.0     3.7     3.7   \n",
            "521     3.3     2.3  ...     1.3     0.0     1.0     2.0     1.0     1.0   \n",
            "330     1.3     1.0  ...     2.3     2.7     3.3     3.0     3.0     2.0   \n",
            "140     4.0     1.7  ...     2.0     3.7     2.7     2.7     4.0     3.7   \n",
            "..      ...     ...  ...     ...     ...     ...     ...     ...     ...   \n",
            "277     2.3     1.7  ...     3.3     3.7     2.7     3.3     1.7     1.7   \n",
            "9       3.7     4.0  ...     2.7     4.0     3.7     4.0     2.7     4.0   \n",
            "359     3.3     3.3  ...     4.0     4.0     4.0     3.7     4.0     4.0   \n",
            "192     3.7     4.0  ...     4.0     4.0     3.3     4.0     4.0     4.0   \n",
            "559     3.0     3.7  ...     2.7     3.0     3.3     3.3     3.3     3.7   \n",
            "\n",
            "     CS-214  EE-217  CS-212  CS-215  \n",
            "268     3.7     3.7     3.7     3.0  \n",
            "239     3.7     4.0     3.7     4.0  \n",
            "521     1.0     1.3     3.0     3.3  \n",
            "330     1.7     3.3     3.0     3.0  \n",
            "140     2.7     4.0     3.0     2.7  \n",
            "..      ...     ...     ...     ...  \n",
            "277     1.3     3.7     2.0     2.7  \n",
            "9       2.7     3.7     2.7     3.7  \n",
            "359     4.0     4.0     3.7     3.7  \n",
            "192     4.0     3.7     4.0     4.0  \n",
            "559     2.0     2.7     3.3     4.0  \n",
            "\n",
            "[456 rows x 22 columns] 268    3.473\n",
            "239    3.573\n",
            "521    1.863\n",
            "330    2.599\n",
            "140    3.363\n",
            "       ...  \n",
            "277    2.705\n",
            "9      3.247\n",
            "359    3.806\n",
            "192    3.882\n",
            "559    3.226\n",
            "Name: CGPA, Length: 456, dtype: float64\n"
          ]
        }
      ],
      "source": [
        "from sklearn.model_selection import train_test_split\n",
        "x2_train,x2_test,y2_train,y2_test=train_test_split(x2, y2,test_size=0.2,random_state=0)\n",
        "print(x2_train,y2_train)"
      ]
    },
    {
      "cell_type": "code",
      "execution_count": null,
      "id": "110546cf",
      "metadata": {
        "id": "110546cf"
      },
      "outputs": [],
      "source": [
        "# Preprocessing for model_3\n",
        "x3 = data.drop([\"CGPA\",\"Seat No.\",\"MT-442\",\"CS-403\",\"CS-421\",\"CS-406\",\"CS-414\",\"CS-419\",\"CS-423\",\"CS-412\",\"CS-423\",\"CS-412\"], axis=\"columns\")\n",
        "y3 = data['CGPA']"
      ]
    },
    {
      "cell_type": "code",
      "execution_count": null,
      "id": "bf56f578",
      "metadata": {
        "colab": {
          "base_uri": "https://localhost:8080/"
        },
        "id": "bf56f578",
        "outputId": "14da04b1-95f4-46c9-f046-597af0eb1630"
      },
      "outputs": [
        {
          "output_type": "stream",
          "name": "stdout",
          "text": [
            "     PH-121  HS-101  CY-105  HS-105/12  MT-111  CS-105  CS-106  EL-102  \\\n",
            "268     4.0     3.7     3.3        3.7     3.7     3.7     3.3     3.7   \n",
            "239     4.0     3.3     4.0        4.0     3.7     4.0     3.7     4.0   \n",
            "521     1.7     1.3     2.7        2.0     2.7     2.0     3.0     1.7   \n",
            "330     1.0     2.3     3.3        1.3     2.7     1.7     4.0     3.7   \n",
            "140     4.0     2.7     3.3        3.0     3.7     3.7     4.0     4.0   \n",
            "..      ...     ...     ...        ...     ...     ...     ...     ...   \n",
            "277     3.3     1.3     1.3        3.0     1.3     4.0     3.7     3.0   \n",
            "9       4.0     3.0     2.3        3.0     3.0     3.7     2.0     2.7   \n",
            "359     3.7     3.7     4.0        3.3     4.0     4.0     3.3     4.0   \n",
            "192     4.0     4.0     4.0        4.0     4.0     4.0     4.0     3.7   \n",
            "559     3.7     2.3     4.0        3.0     3.0     3.7     2.3     1.0   \n",
            "\n",
            "     EE-119  ME-107  ...  EF-303  HS-304  CS-301  CS-302  TC-383  EL-332  \\\n",
            "268     3.7     2.0  ...     3.7     3.3     3.7     3.7     3.7     3.3   \n",
            "239     3.7     4.0  ...     3.0     3.0     4.0     3.7     4.0     3.7   \n",
            "521     3.3     2.3  ...     2.3     0.0     2.0     1.7     2.0     1.3   \n",
            "330     1.3     1.0  ...     2.7     1.0     2.7     2.0     3.0     2.7   \n",
            "140     4.0     1.7  ...     2.3     2.7     3.7     3.0     3.0     4.0   \n",
            "..      ...     ...  ...     ...     ...     ...     ...     ...     ...   \n",
            "277     2.3     1.7  ...     2.0     3.3     2.7     2.7     3.0     2.3   \n",
            "9       3.7     4.0  ...     3.3     3.7     2.7     2.7     2.3     3.3   \n",
            "359     3.3     3.3  ...     3.0     4.0     4.0     4.0     4.0     4.0   \n",
            "192     3.7     4.0  ...     3.3     3.7     4.0     4.0     4.0     4.0   \n",
            "559     3.0     3.7  ...     3.7     2.7     3.0     3.0     3.3     3.0   \n",
            "\n",
            "     CS-318  CS-306  CS-312  CS-317  \n",
            "268     3.7     3.7     3.7     3.0  \n",
            "239     3.7     3.7     3.0     3.7  \n",
            "521     0.0     3.3     1.0     1.7  \n",
            "330     1.7     2.7     4.0     2.7  \n",
            "140     3.7     3.3     2.7     3.0  \n",
            "..      ...     ...     ...     ...  \n",
            "277     2.3     3.0     2.0     2.7  \n",
            "9       2.7     3.7     2.3     2.7  \n",
            "359     3.3     4.0     4.0     3.7  \n",
            "192     4.0     4.0     4.0     4.0  \n",
            "559     3.3     2.7     3.3     2.7  \n",
            "\n",
            "[456 rows x 33 columns] 268    3.473\n",
            "239    3.573\n",
            "521    1.863\n",
            "330    2.599\n",
            "140    3.363\n",
            "       ...  \n",
            "277    2.705\n",
            "9      3.247\n",
            "359    3.806\n",
            "192    3.882\n",
            "559    3.226\n",
            "Name: CGPA, Length: 456, dtype: float64\n"
          ]
        }
      ],
      "source": [
        "from sklearn.model_selection import train_test_split\n",
        "x3_train,x3_test,y3_train,y3_test=train_test_split(x3, y3,test_size=0.2,random_state=0)\n",
        "print(x3_train,y3_train)"
      ]
    },
    {
      "cell_type": "markdown",
      "id": "2abcc76b",
      "metadata": {
        "id": "2abcc76b"
      },
      "source": [
        "**Support Vector Regressor for Model 1**"
      ]
    },
    {
      "cell_type": "code",
      "execution_count": 86,
      "id": "1YxJdT4wGWYX",
      "metadata": {
        "colab": {
          "base_uri": "https://localhost:8080/"
        },
        "id": "1YxJdT4wGWYX",
        "outputId": "fdd03c51-bbed-4fb9-cc7f-2a3b589b4f17"
      },
      "outputs": [
        {
          "output_type": "execute_result",
          "data": {
            "text/plain": [
              "SVR(kernel='linear')"
            ]
          },
          "metadata": {},
          "execution_count": 86
        }
      ],
      "source": [
        "from sklearn.svm import SVR # Load libraries\n",
        "regressor1=SVR(kernel='linear') # Create decision tree classifier object\n",
        "regressor1.fit(x1_train.values,y1_train.values)"
      ]
    },
    {
      "cell_type": "code",
      "execution_count": 87,
      "id": "3fn9k_HtHk4r",
      "metadata": {
        "id": "3fn9k_HtHk4r"
      },
      "outputs": [],
      "source": [
        "y_pred_1=regressor1.predict(x1_test.values) #predicting outputs using svr"
      ]
    },
    {
      "cell_type": "code",
      "execution_count": 88,
      "id": "i-jHDSDcHukD",
      "metadata": {
        "colab": {
          "base_uri": "https://localhost:8080/"
        },
        "id": "i-jHDSDcHukD",
        "outputId": "6eb0c0fb-fd08-4088-8fb9-486f55eeab96"
      },
      "outputs": [
        {
          "output_type": "stream",
          "name": "stdout",
          "text": [
            "[2.93947788 2.54608118 3.17568862 3.01643979 3.05598215 2.15361471\n",
            " 2.66661151 3.6064424  3.30906286 1.5920766  3.2357229  2.87223974\n",
            " 2.04231269 3.56676098 3.87648607 3.27164601 3.6793654  3.61207528\n",
            " 3.29248752 3.14198724 2.55755126 2.96609817 3.08266268 3.82135943\n",
            " 3.45537424 3.24444198 3.41857321 3.29274715 2.67890168 3.46700974\n",
            " 1.956088   3.3310548  2.66636018 2.68847    2.2630831  2.72195809\n",
            " 3.66921281 2.43315027 2.97561879 3.63666465 2.89030382 3.46005911\n",
            " 3.50511935 3.27837983 3.65340987 3.09583406 2.76802802 2.05203642\n",
            " 2.70349577 3.50204859 2.62821969 2.51586522 3.76840042 1.95251055\n",
            " 2.43077951 2.8645017  2.89916921 2.81880837 3.12630148 2.70199947\n",
            " 3.14782912 2.56052988 2.10492804 2.4844843  3.18324038 2.48634091\n",
            " 3.64235006 2.71646503 3.46687011 2.43266116 3.55782498 2.6174403\n",
            " 2.44995704 2.28468389 2.03371513 3.81509688 1.84410956 2.53610785\n",
            " 3.37828835 2.68756529 2.11141108 3.83067289 2.90034988 3.0032954\n",
            " 3.20473896 3.14345543 2.80199406 3.54849796 2.6893679  2.82394452\n",
            " 3.81428483 2.12500068 3.28545044 2.06867595 3.1549334  2.70234848\n",
            " 3.30812361 3.32098191 3.39141831 3.45134749 3.22408683 3.32431425\n",
            " 2.47036578 3.59804943 2.23346949 3.01362591 2.4877976  2.96203234\n",
            " 3.82135943 3.23751882 2.94194368 2.41185926 3.30579498 3.71992961\n",
            " 3.25114768 3.38505643 3.74336726 2.53139573 2.386608   3.35027481\n",
            " 3.06766518 3.24439397 3.22026182 2.6893938  2.58175664 3.73898239\n",
            " 2.59352173 3.47991916 3.58788151 1.9176969  3.56428268 3.58516004\n",
            " 2.66206891 3.22444927 1.99562822 3.20653415 3.5442402  2.80170607\n",
            " 3.55361918 3.38591204 2.42569928 3.58599419 2.99494061]\n"
          ]
        }
      ],
      "source": [
        "print(y_pred_1)"
      ]
    },
    {
      "cell_type": "code",
      "execution_count": 89,
      "id": "7zg6_pnSI5ay",
      "metadata": {
        "colab": {
          "base_uri": "https://localhost:8080/"
        },
        "id": "7zg6_pnSI5ay",
        "outputId": "c0090c14-6c48-4304-aae5-282dbd25f852"
      },
      "outputs": [
        {
          "output_type": "stream",
          "name": "stdout",
          "text": [
            "Results:\n",
            "MAE: 0.19035505983272513\n",
            "MSE: 0.05806139605244919\n",
            "RMSE: 0.24095932447707682\n",
            "R-Squared: 0.8335082004984331\n"
          ]
        }
      ],
      "source": [
        "mae = metrics.mean_absolute_error(y1_test.values,y_pred_1)\n",
        "mse = metrics.mean_squared_error(y1_test.values,y_pred_1)\n",
        "rmse = np.sqrt(mse) # or mse**(0.5)  \n",
        "r2 = metrics.r2_score(y1_test.values,y_pred_1)\n",
        "\n",
        "print(\"Results:\")\n",
        "print(\"MAE:\",mae)\n",
        "print(\"MSE:\", mse)\n",
        "print(\"RMSE:\", rmse)\n",
        "print(\"R-Squared:\", r2)"
      ]
    },
    {
      "cell_type": "code",
      "execution_count": null,
      "id": "1752f79c",
      "metadata": {
        "colab": {
          "base_uri": "https://localhost:8080/"
        },
        "id": "1752f79c",
        "outputId": "41830762-41fe-4b4e-c94d-3d0e2a183dbb"
      },
      "outputs": [
        {
          "output_type": "stream",
          "name": "stdout",
          "text": [
            "[3.23302039]\n"
          ]
        }
      ],
      "source": [
        "new_input=[[3.7,3.7,3.7,3.7,3.7,2.0,4.0,2.7,4.0,2.0,2.0]]\n",
        "out=regressor1.predict(new_input)\n",
        "print(out)"
      ]
    },
    {
      "cell_type": "markdown",
      "source": [
        "**Linear Regression for Model 1**"
      ],
      "metadata": {
        "id": "k7fBTY7qe0t9"
      },
      "id": "k7fBTY7qe0t9"
    },
    {
      "cell_type": "code",
      "execution_count": 90,
      "id": "7qMIrkqWJNaM",
      "metadata": {
        "colab": {
          "base_uri": "https://localhost:8080/"
        },
        "id": "7qMIrkqWJNaM",
        "outputId": "235277ed-8f45-4050-eb1d-d8e71477791a"
      },
      "outputs": [
        {
          "output_type": "execute_result",
          "data": {
            "text/plain": [
              "LinearRegression()"
            ]
          },
          "metadata": {},
          "execution_count": 90
        }
      ],
      "source": [
        "from sklearn.linear_model import LinearRegression #Loading libraries\n",
        "regressor2=LinearRegression() #Creating an object of Linear Regression\n",
        "regressor2.fit(x1_train.values,y1_train.values)"
      ]
    },
    {
      "cell_type": "code",
      "execution_count": 91,
      "id": "-11XlqOIJWXP",
      "metadata": {
        "id": "-11XlqOIJWXP"
      },
      "outputs": [],
      "source": [
        "y_pred_2=regressor2.predict(x1_test.values)"
      ]
    },
    {
      "cell_type": "code",
      "execution_count": 92,
      "id": "R5w1aEBKJgnE",
      "metadata": {
        "colab": {
          "base_uri": "https://localhost:8080/"
        },
        "id": "R5w1aEBKJgnE",
        "outputId": "75a9056a-6fef-4fa0-881a-0db7a90e5d72"
      },
      "outputs": [
        {
          "output_type": "stream",
          "name": "stdout",
          "text": [
            "Results:\n",
            "MAE: 0.19481193440340305\n",
            "MSE: 0.05920628978251614\n",
            "RMSE: 0.24332342629207762\n",
            "R-Squared: 0.8302252030110024\n"
          ]
        }
      ],
      "source": [
        "mae = metrics.mean_absolute_error(y1_test.values,y_pred_2)\n",
        "mse = metrics.mean_squared_error(y1_test.values,y_pred_2)\n",
        "rmse = np.sqrt(mse) # or mse**(0.5)  \n",
        "r2 = metrics.r2_score(y1_test.values,y_pred_2)\n",
        "\n",
        "print(\"Results:\")\n",
        "print(\"MAE:\",mae)\n",
        "print(\"MSE:\", mse)\n",
        "print(\"RMSE:\", rmse)\n",
        "print(\"R-Squared:\", r2)"
      ]
    },
    {
      "cell_type": "code",
      "execution_count": null,
      "id": "e4b7e936",
      "metadata": {
        "colab": {
          "base_uri": "https://localhost:8080/"
        },
        "id": "e4b7e936",
        "outputId": "3b04f2bb-a528-494f-d882-da9538de9d5f"
      },
      "outputs": [
        {
          "output_type": "stream",
          "name": "stdout",
          "text": [
            "[3.2280251]\n"
          ]
        }
      ],
      "source": [
        "new_input=[[3.7,3.7,3.7,3.7,3.7,2.0,4.0,2.7,4.0,2.0,2.0]]\n",
        "out=regressor2.predict(new_input)\n",
        "print(out)"
      ]
    },
    {
      "cell_type": "markdown",
      "source": [
        "**KNN Regressor for Model 1**"
      ],
      "metadata": {
        "id": "8z-Ut9jv6AmK"
      },
      "id": "8z-Ut9jv6AmK"
    },
    {
      "cell_type": "code",
      "execution_count": null,
      "id": "5295fa23",
      "metadata": {
        "colab": {
          "base_uri": "https://localhost:8080/"
        },
        "id": "5295fa23",
        "outputId": "6276e90e-4e88-424a-e2cd-eca1677dc550"
      },
      "outputs": [
        {
          "output_type": "stream",
          "name": "stdout",
          "text": [
            "Test set predictions:\n",
            "[3.18826667 2.68413333 3.0946     3.00246667 3.143      2.38166667\n",
            " 2.88546667 3.50166667 3.38093333 1.94653333 3.3512     2.8752\n",
            " 2.2376     3.6822     3.84866667 3.3112     3.75433333 3.60513333\n",
            " 3.29053333 3.28926667 2.7348     3.12593333 2.94606667 3.8688\n",
            " 3.48493333 3.44533333 3.38566667 3.3852     2.86826667 3.35326667\n",
            " 2.13433333 3.39606667 2.72593333 2.79813333 2.35566667 2.67973333\n",
            " 3.7908     2.5372     2.91186667 3.6598     2.91626667 3.3946\n",
            " 3.50226667 3.4072     3.6372     3.154      2.93093333 1.87266667\n",
            " 2.60986667 3.35973333 2.54786667 2.7026     3.78233333 2.19153333\n",
            " 2.58846667 2.87646667 3.0652     2.93766667 3.19766667 2.78906667\n",
            " 3.32026667 2.5462     2.1376     2.6578     3.25066667 2.5882\n",
            " 3.72453333 2.80306667 3.5302     2.47686667 3.63086667 2.88486667\n",
            " 2.4822     2.041      2.05213333 3.84406667 2.1456     2.52253333\n",
            " 3.5276     2.80106667 2.09866667 3.8572     2.9638     2.98566667\n",
            " 3.29686667 3.26766667 2.8238     3.60353333 2.76606667 2.97046667\n",
            " 3.84866667 2.387      3.1796     2.0076     3.34566667 2.78973333\n",
            " 3.3248     3.4552     3.44506667 3.44553333 3.29433333 3.38626667\n",
            " 2.1988     3.72526667 2.39426667 3.17106667 2.60673333 3.05873333\n",
            " 3.8688     3.274      2.95826667 2.17473333 3.4044     3.856\n",
            " 3.2828     3.4208     3.76286667 2.51613333 2.43826667 3.377\n",
            " 3.18653333 3.23133333 3.19073333 2.75066667 2.66866667 3.6902\n",
            " 2.6948     3.52606667 3.54073333 2.03066667 3.62633333 3.69706667\n",
            " 2.6736     3.36853333 2.09233333 3.3146     3.65346667 2.5966\n",
            " 3.558      3.50293333 2.51526667 3.5844     3.10726667]\n"
          ]
        }
      ],
      "source": [
        "from sklearn.neighbors import KNeighborsRegressor\n",
        "from sklearn.model_selection import train_test_split\n",
        "import mglearn\n",
        "x, y = mglearn.datasets.make_wave(n_samples=1400)\n",
        "# split the wave dataset into a training and a test set\n",
        "x1_train, x1_test, y1_train, y1_test = train_test_split(x1, y1,\n",
        "random_state=0)\n",
        "# instantiate the model and set the number of neighbors to consider to 15\n",
        "reg = KNeighborsRegressor(n_neighbors=15)\n",
        "# fit the model using the training data and training targets\n",
        "reg.fit(x1_train.values, y1_train.values)\n",
        "a=reg.predict(x1_test.values)\n",
        "print(\"Test set predictions:\\n{}\".format(a))"
      ]
    },
    {
      "cell_type": "code",
      "execution_count": null,
      "id": "69433b57",
      "metadata": {
        "colab": {
          "base_uri": "https://localhost:8080/"
        },
        "id": "69433b57",
        "outputId": "4e64ffc7-6c32-463c-81ac-b4c3ecb4c2b5"
      },
      "outputs": [
        {
          "output_type": "stream",
          "name": "stdout",
          "text": [
            "Results:\n",
            "MAE: 0.19460979020979022\n",
            "MSE: 0.06080678588966589\n",
            "RMSE: 0.24659031994315164\n",
            "R-Squared: 0.825635759850974\n"
          ]
        }
      ],
      "source": [
        "mae = metrics.mean_absolute_error(y1_test.values, a)\n",
        "mse = metrics.mean_squared_error(y1_test.values, a)\n",
        "rmse = np.sqrt(mse) # or mse**(0.5)  \n",
        "r2 = metrics.r2_score(y1_test.values, a)\n",
        "\n",
        "print(\"Results:\")\n",
        "print(\"MAE:\",mae)\n",
        "print(\"MSE:\", mse)\n",
        "print(\"RMSE:\", rmse)\n",
        "print(\"R-Squared:\", r2)\n"
      ]
    },
    {
      "cell_type": "code",
      "execution_count": null,
      "id": "3429e8e5",
      "metadata": {
        "colab": {
          "base_uri": "https://localhost:8080/"
        },
        "id": "3429e8e5",
        "outputId": "d89765d0-cbc8-49f8-b82f-bcf61d92ea25"
      },
      "outputs": [
        {
          "output_type": "stream",
          "name": "stdout",
          "text": [
            "[3.23233333]\n"
          ]
        }
      ],
      "source": [
        "new_input=[[3.7,3.7,3.7,3.7,3.7,2.0,4.0,2.7,4.0,2.0,2.0]]\n",
        "out=reg.predict(new_input)\n",
        "print(out)"
      ]
    },
    {
      "cell_type": "code",
      "source": [
        "results = [regressor1.score(x1_test.values,y1_test.values), regressor2.score(x1_test.values,y1_test.values), reg.score(x1_test.values,y1_test.values)]\n",
        "names = [\"SVM\",\"Linear Regression\",\"KNN Regression\"]\n",
        "import seaborn as sns\n",
        "plt.subplots(figsize=(16,8))\n",
        "\n",
        "sns.barplot(names,results)\n",
        "plt.xticks(rotation=90)\n",
        "plt.title('Accuracy of SVM vs Linear Regression vs KNN Regression')\n",
        "plt.show()"
      ],
      "metadata": {
        "colab": {
          "base_uri": "https://localhost:8080/",
          "height": 633
        },
        "id": "oPtCwW5nXgt0",
        "outputId": "6599ed4f-2564-4651-9ae0-fc776efcad0a"
      },
      "id": "oPtCwW5nXgt0",
      "execution_count": 126,
      "outputs": [
        {
          "output_type": "stream",
          "name": "stderr",
          "text": [
            "/usr/local/lib/python3.7/dist-packages/seaborn/_decorators.py:43: FutureWarning: Pass the following variables as keyword args: x, y. From version 0.12, the only valid positional argument will be `data`, and passing other arguments without an explicit keyword will result in an error or misinterpretation.\n",
            "  FutureWarning\n"
          ]
        },
        {
          "output_type": "display_data",
          "data": {
            "text/plain": [
              "<Figure size 1152x576 with 1 Axes>"
            ],
            "image/png": "[encoded data removed]"
          },
          "metadata": {
            "needs_background": "light"
          }
        }
      ]
    },
    {
      "cell_type": "code",
      "source": [
        "sns.lineplot(names,results)"
      ],
      "metadata": {
        "colab": {
          "base_uri": "https://localhost:8080/",
          "height": 337
        },
        "id": "0NtPsOxJkyRJ",
        "outputId": "e0bf0856-b937-445e-ac9a-33ad61c2360d"
      },
      "id": "0NtPsOxJkyRJ",
      "execution_count": 127,
      "outputs": [
        {
          "output_type": "stream",
          "name": "stderr",
          "text": [
            "/usr/local/lib/python3.7/dist-packages/seaborn/_decorators.py:43: FutureWarning: Pass the following variables as keyword args: x, y. From version 0.12, the only valid positional argument will be `data`, and passing other arguments without an explicit keyword will result in an error or misinterpretation.\n",
            "  FutureWarning\n"
          ]
        },
        {
          "output_type": "execute_result",
          "data": {
            "text/plain": [
              "<matplotlib.axes._subplots.AxesSubplot at 0x7fee83154810>"
            ]
          },
          "metadata": {},
          "execution_count": 127
        },
        {
          "output_type": "display_data",
          "data": {
            "text/plain": [
              "<Figure size 432x288 with 1 Axes>"
            ],
            "image/png": "[encoded data removed]"
          },
          "metadata": {
            "needs_background": "light"
          }
        }
      ]
    },
    {
      "cell_type": "markdown",
      "source": [
        "**Support Vector Regessor for Model 2**"
      ],
      "metadata": {
        "id": "sfJL5OJ2f1Wk"
      },
      "id": "sfJL5OJ2f1Wk"
    },
    {
      "cell_type": "code",
      "execution_count": 100,
      "id": "db83f2ff",
      "metadata": {
        "colab": {
          "base_uri": "https://localhost:8080/"
        },
        "id": "db83f2ff",
        "outputId": "48ee4274-5c8c-4358-9927-df245d8b2142"
      },
      "outputs": [
        {
          "output_type": "execute_result",
          "data": {
            "text/plain": [
              "SVR(kernel='linear')"
            ]
          },
          "metadata": {},
          "execution_count": 100
        }
      ],
      "source": [
        "from sklearn.svm import SVR # Load libraries\n",
        "regressor3=SVR(kernel='linear') # Creating an object\n",
        "regressor3.fit(x2_train.values,y2_train.values)"
      ]
    },
    {
      "cell_type": "code",
      "execution_count": 101,
      "id": "4ccace02",
      "metadata": {
        "id": "4ccace02"
      },
      "outputs": [],
      "source": [
        "y_pred_1=regressor3.predict(x2_test.values)"
      ]
    },
    {
      "cell_type": "code",
      "execution_count": 102,
      "id": "59b80a29",
      "metadata": {
        "colab": {
          "base_uri": "https://localhost:8080/"
        },
        "id": "59b80a29",
        "outputId": "9b0648d7-c55b-4460-fd8e-b1d868efbea8"
      },
      "outputs": [
        {
          "output_type": "stream",
          "name": "stdout",
          "text": [
            "[3.22979758 2.46229604 3.17133382 3.23725653 3.21499245 2.45574866\n",
            " 2.6597089  3.68793283 2.72161615 1.56624456 3.20029217 2.80619328\n",
            " 1.80084862 3.49608241 3.87491506 3.14085693 3.76176272 3.46585465\n",
            " 3.37053419 3.62261497 2.60633513 2.75221724 3.12186218 3.76437457\n",
            " 3.48713087 3.35979678 3.40832798 3.44990906 2.68403053 3.59051854\n",
            " 1.93670233 3.33351881 3.0245118  2.61899042 1.84011946 2.6860238\n",
            " 3.76874075 2.71574996 2.53992061 3.43600923 2.92008356 3.23906307\n",
            " 3.64327102 3.14390758 3.7543759  2.96481289 2.6476603  1.95383127\n",
            " 2.48825995 3.15436133 2.28835355 2.69233221 3.73664865 2.10428856\n",
            " 2.66693235 2.96463538 2.66759715 2.66037336 2.70548038 2.86119033\n",
            " 3.33580726 2.66888848 2.59854988 2.59517198 3.10199597 2.48619659\n",
            " 3.4816903  2.94234095 3.43388758 2.5022885  3.59050496 2.66438676\n",
            " 2.57564295 2.40355059 1.87752716 3.70561821 2.16061771 2.31855519\n",
            " 3.51743363 2.31484454 1.90897966 3.88352482 3.00084531 3.00163452\n",
            " 3.257036   3.3435004  2.31733526 3.54322063 2.55568333 3.21452482\n",
            " 3.88027894 1.89756241 3.08067191 1.90435291 3.03113702 2.65185416\n",
            " 3.0666051  3.57888318 3.42674865 3.53399901 3.07661162 3.26013747\n",
            " 1.91117614 3.62756694 2.20205104 3.27791464 2.45204548 3.14768105\n",
            " 3.82807943 3.26977873 2.94279202 2.20235528 3.05835111 3.5295743\n",
            " 2.94938973 3.51959162 3.7776871  2.05809072 2.68905273 3.19029805\n",
            " 3.22734268 2.83848193 3.07801987 2.66922889 2.65936394 3.81922905\n",
            " 2.85635804 3.65374158 3.71173514 2.08549066 3.63670698 3.56749715\n",
            " 2.67893702 3.35195858 2.03899431 3.22111444 3.61136983 2.85859851\n",
            " 3.4631342  3.38722552 2.34231928 3.64235795 3.01759289]\n"
          ]
        }
      ],
      "source": [
        "print(y_pred_1)"
      ]
    },
    {
      "cell_type": "code",
      "execution_count": 103,
      "id": "5b1e51eb",
      "metadata": {
        "colab": {
          "base_uri": "https://localhost:8080/"
        },
        "id": "5b1e51eb",
        "outputId": "18d56af4-6035-4adf-dfd0-7941429ad589"
      },
      "outputs": [
        {
          "output_type": "stream",
          "name": "stdout",
          "text": [
            "Results:\n",
            "MAE: 0.12039539352584827\n",
            "MSE: 0.0235090563011465\n",
            "RMSE: 0.1533266327196502\n",
            "R-Squared: 0.9325874788710592\n"
          ]
        }
      ],
      "source": [
        "mae = metrics.mean_absolute_error(y2_test.values,y_pred_1)\n",
        "mse = metrics.mean_squared_error(y2_test.values,y_pred_1)\n",
        "rmse = np.sqrt(mse) # or mse**(0.5)  \n",
        "r2 = metrics.r2_score(y2_test.values,y_pred_1)\n",
        "\n",
        "print(\"Results:\")\n",
        "print(\"MAE:\",mae)\n",
        "print(\"MSE:\", mse)\n",
        "print(\"RMSE:\", rmse)\n",
        "print(\"R-Squared:\", r2)"
      ]
    },
    {
      "cell_type": "markdown",
      "source": [
        "**Linear Regression for Model 2**"
      ],
      "metadata": {
        "id": "qMSliiH_gGjT"
      },
      "id": "qMSliiH_gGjT"
    },
    {
      "cell_type": "code",
      "execution_count": 104,
      "id": "709fda09",
      "metadata": {
        "colab": {
          "base_uri": "https://localhost:8080/"
        },
        "id": "709fda09",
        "outputId": "53c481c2-a1a7-4435-8674-0a4734a6ddf7"
      },
      "outputs": [
        {
          "output_type": "execute_result",
          "data": {
            "text/plain": [
              "LinearRegression()"
            ]
          },
          "metadata": {},
          "execution_count": 104
        }
      ],
      "source": [
        "from sklearn.linear_model import LinearRegression\n",
        "regressor4=LinearRegression() \n",
        "regressor4.fit(x2_train.values,y2_train.values)"
      ]
    },
    {
      "cell_type": "code",
      "execution_count": 105,
      "id": "9ae76282",
      "metadata": {
        "id": "9ae76282"
      },
      "outputs": [],
      "source": [
        "y_pred_2=regressor4.predict(x2_test.values)"
      ]
    },
    {
      "cell_type": "code",
      "execution_count": 106,
      "id": "0a2d972c",
      "metadata": {
        "colab": {
          "base_uri": "https://localhost:8080/"
        },
        "id": "0a2d972c",
        "outputId": "495bb9db-cbea-4d3b-dd0e-85367b21f95c"
      },
      "outputs": [
        {
          "output_type": "stream",
          "name": "stdout",
          "text": [
            "Results:\n",
            "MAE: 0.13184518958758404\n",
            "MSE: 0.027717178046022518\n",
            "RMSE: 0.16648476821025554\n",
            "R-Squared: 0.9205206356764315\n"
          ]
        }
      ],
      "source": [
        "mae = metrics.mean_absolute_error(y2_test.values,y_pred_2)\n",
        "mse = metrics.mean_squared_error(y2_test.values,y_pred_2)\n",
        "rmse = np.sqrt(mse) # or mse**(0.5)  \n",
        "r2 = metrics.r2_score(y2_test.values,y_pred_2)\n",
        "\n",
        "print(\"Results:\")\n",
        "print(\"MAE:\",mae)\n",
        "print(\"MSE:\", mse)\n",
        "print(\"RMSE:\", rmse)\n",
        "print(\"R-Squared:\", r2)"
      ]
    },
    {
      "cell_type": "markdown",
      "source": [
        "**KNN Regressor for Model 2**"
      ],
      "metadata": {
        "id": "8A25ILTA54m4"
      },
      "id": "8A25ILTA54m4"
    },
    {
      "cell_type": "code",
      "execution_count": 107,
      "id": "168429e1",
      "metadata": {
        "colab": {
          "base_uri": "https://localhost:8080/"
        },
        "id": "168429e1",
        "outputId": "b4e418bf-186e-4807-9c21-bc3cd09bfbe4"
      },
      "outputs": [
        {
          "output_type": "stream",
          "name": "stdout",
          "text": [
            "Test set predictions:\n",
            "[3.31933333 2.51406667 3.30573333 3.25126667 3.3676     2.4924\n",
            " 2.73813333 3.72933333 2.89093333 1.86273333 3.26373333 2.81593333\n",
            " 2.06833333 3.72013333 3.8732     3.33306667 3.87913333 3.50353333\n",
            " 3.36373333 3.62693333 2.73433333 2.82306667 3.0908     3.81653333\n",
            " 3.74606667 3.38793333 3.38426667 3.42813333 2.7266     3.58446667\n",
            " 1.9984     3.3684     3.2854     2.79913333 2.21       2.7444\n",
            " 3.85973333 2.73093333 2.70126667 3.69113333 3.13586667 3.40013333\n",
            " 3.69693333 3.37086667 3.68046667 3.0048     2.818      1.99953333\n",
            " 2.57426667 3.2434     2.3336     2.78766667 3.7714     2.112\n",
            " 2.7632     2.85666667 3.0108     2.69353333 2.83973333 2.90553333\n",
            " 3.3914     2.74013333 2.43626667 2.73606667 3.2476     2.46733333\n",
            " 3.61686667 3.0104     3.60053333 2.58626667 3.6586     2.6774\n",
            " 2.59406667 2.2712     2.03853333 3.8416     2.20933333 2.35426667\n",
            " 3.5668     2.3222     2.08866667 3.88726667 3.14046667 3.09426667\n",
            " 3.34313333 3.43306667 2.58973333 3.71693333 2.65453333 3.2632\n",
            " 3.897      2.17066667 3.0998     1.9766     2.9996     2.75673333\n",
            " 3.09533333 3.5904     3.5824     3.60246667 3.3372     3.4498\n",
            " 2.08233333 3.741      2.41753333 3.34566667 2.47273333 3.30113333\n",
            " 3.8716     3.27713333 3.04426667 2.28726667 3.19793333 3.72826667\n",
            " 3.07066667 3.5384     3.85706667 2.02113333 2.7578     3.3844\n",
            " 3.2828     2.85206667 3.251      2.58573333 2.766      3.84766667\n",
            " 2.978      3.77053333 3.759      2.23626667 3.62506667 3.71806667\n",
            " 2.80566667 3.50606667 2.16466667 3.36253333 3.75413333 2.9862\n",
            " 3.4236     3.4144     2.43853333 3.58053333 2.99933333]\n"
          ]
        }
      ],
      "source": [
        "from sklearn.neighbors import KNeighborsRegressor\n",
        "from sklearn.model_selection import train_test_split\n",
        "import mglearn\n",
        "x, y = mglearn.datasets.make_wave(n_samples=1400)\n",
        "# split the wave dataset into a training and a test set\n",
        "x2_train, x2_test, y2_train, y2_test = train_test_split(x2, y2,\n",
        "random_state=0)\n",
        "# instantiate the model and set the number of neighbors to consider to 3\n",
        "reg1 = KNeighborsRegressor(n_neighbors=15)\n",
        "# fit the model using the training data and training targets\n",
        "reg1.fit(x2_train.values, y2_train.values)\n",
        "b=reg1.predict(x2_test.values)\n",
        "print(\"Test set predictions:\\n{}\".format(b))"
      ]
    },
    {
      "cell_type": "code",
      "execution_count": 108,
      "id": "a0e83218",
      "metadata": {
        "colab": {
          "base_uri": "https://localhost:8080/"
        },
        "id": "a0e83218",
        "outputId": "94d4ede0-9672-4e4b-81e0-d19e5f0bfed5"
      },
      "outputs": [
        {
          "output_type": "stream",
          "name": "stdout",
          "text": [
            "Results:\n",
            "MAE: 0.1346820512820512\n",
            "MSE: 0.030766464180264165\n",
            "RMSE: 0.17540371769225466\n",
            "R-Squared: 0.9117767684909704\n"
          ]
        }
      ],
      "source": [
        "mae = metrics.mean_absolute_error(y2_test.values, b)\n",
        "mse = metrics.mean_squared_error(y2_test.values, b)\n",
        "rmse = np.sqrt(mse) # or mse**(0.5)  \n",
        "r2 = metrics.r2_score(y2_test.values, b)\n",
        "\n",
        "print(\"Results:\")\n",
        "print(\"MAE:\",mae)\n",
        "print(\"MSE:\", mse)\n",
        "print(\"RMSE:\", rmse)\n",
        "print(\"R-Squared:\", r2)\n"
      ]
    },
    {
      "cell_type": "code",
      "source": [
        "results = [regressor3.score(x2_test.values,y2_test.values), regressor4.score(x2_test.values,y2_test.values), reg1.score(x2_test.values,y2_test.values)]\n",
        "names = [\"SVM\",\"Linear Regression\",\"KNN Regression\"]\n",
        "import seaborn as sns\n",
        "plt.subplots(figsize=(16,8))\n",
        "\n",
        "sns.barplot(names,results)\n",
        "plt.xticks(rotation=90)\n",
        "plt.title('Accuracy of SVM vs Linear Regression vs KNN Regression')\n",
        "plt.show()"
      ],
      "metadata": {
        "colab": {
          "base_uri": "https://localhost:8080/",
          "height": 633
        },
        "id": "xcN4sXGdh9pJ",
        "outputId": "67da9322-13aa-4cec-c709-bfc419018877"
      },
      "id": "xcN4sXGdh9pJ",
      "execution_count": 124,
      "outputs": [
        {
          "output_type": "stream",
          "name": "stderr",
          "text": [
            "/usr/local/lib/python3.7/dist-packages/seaborn/_decorators.py:43: FutureWarning: Pass the following variables as keyword args: x, y. From version 0.12, the only valid positional argument will be `data`, and passing other arguments without an explicit keyword will result in an error or misinterpretation.\n",
            "  FutureWarning\n"
          ]
        },
        {
          "output_type": "display_data",
          "data": {
            "text/plain": [
              "<Figure size 1152x576 with 1 Axes>"
            ],
            "image/png": "[encoded data removed]"
          },
          "metadata": {
            "needs_background": "light"
          }
        }
      ]
    },
    {
      "cell_type": "code",
      "source": [
        "sns.lineplot(names,results)"
      ],
      "metadata": {
        "colab": {
          "base_uri": "https://localhost:8080/",
          "height": 337
        },
        "id": "kOrV74KukrlT",
        "outputId": "68cb9e59-c9cc-403d-c987-82f362d1915c"
      },
      "id": "kOrV74KukrlT",
      "execution_count": 125,
      "outputs": [
        {
          "output_type": "stream",
          "name": "stderr",
          "text": [
            "/usr/local/lib/python3.7/dist-packages/seaborn/_decorators.py:43: FutureWarning: Pass the following variables as keyword args: x, y. From version 0.12, the only valid positional argument will be `data`, and passing other arguments without an explicit keyword will result in an error or misinterpretation.\n",
            "  FutureWarning\n"
          ]
        },
        {
          "output_type": "execute_result",
          "data": {
            "text/plain": [
              "<matplotlib.axes._subplots.AxesSubplot at 0x7fee8320f650>"
            ]
          },
          "metadata": {},
          "execution_count": 125
        },
        {
          "output_type": "display_data",
          "data": {
            "text/plain": [
              "<Figure size 432x288 with 1 Axes>"
            ],
            "image/png": "[encoded data removed]"
          },
          "metadata": {
            "needs_background": "light"
          }
        }
      ]
    },
    {
      "cell_type": "markdown",
      "source": [
        "**Support Vector Regressor for Model 3**"
      ],
      "metadata": {
        "id": "Z1lr3qmC5EDM"
      },
      "id": "Z1lr3qmC5EDM"
    },
    {
      "cell_type": "code",
      "execution_count": 110,
      "id": "d51e94d3",
      "metadata": {
        "colab": {
          "base_uri": "https://localhost:8080/"
        },
        "id": "d51e94d3",
        "outputId": "976b46de-4134-4258-ebe4-0833cfe3b064"
      },
      "outputs": [
        {
          "output_type": "execute_result",
          "data": {
            "text/plain": [
              "SVR(kernel='linear')"
            ]
          },
          "metadata": {},
          "execution_count": 110
        }
      ],
      "source": [
        "from sklearn.svm import SVR\n",
        "regressor5=SVR(kernel='linear')\n",
        "regressor5.fit(x3_train.values,y3_train.values)"
      ]
    },
    {
      "cell_type": "code",
      "execution_count": 111,
      "id": "e5c98ead",
      "metadata": {
        "id": "e5c98ead"
      },
      "outputs": [],
      "source": [
        "y_pred_1=regressor5.predict(x3_test.values)"
      ]
    },
    {
      "cell_type": "code",
      "execution_count": 112,
      "id": "f87d5cc0",
      "metadata": {
        "colab": {
          "base_uri": "https://localhost:8080/"
        },
        "id": "f87d5cc0",
        "outputId": "91a6da1d-a946-4405-cde0-8aa131db9f3d"
      },
      "outputs": [
        {
          "output_type": "stream",
          "name": "stdout",
          "text": [
            "[3.1519019  2.41559725 3.0938834  3.09341764 3.35545381 2.37592371\n",
            " 2.59323184 3.75587658 2.78813569 1.70504069 3.09157946 2.89146335\n",
            " 1.95781089 3.63736823 3.96436331 3.26182239 3.8266885  3.37258012\n",
            " 3.40229141 3.61907922 2.42276404 2.73843751 3.22343592 3.86140493\n",
            " 3.4609163  3.11224134 3.36308464 3.29515207 2.80247383 3.5564246\n",
            " 1.87843475 3.40196218 2.95711884 2.39220049 1.91106354 2.86051944\n",
            " 3.79722028 2.91684388 2.5183575  3.56219169 2.91485788 3.2441481\n",
            " 3.6474147  3.25346919 3.71271431 2.75417033 2.78444518 2.00311158\n",
            " 2.58667137 3.26306585 2.21934228 2.66840263 3.79437995 2.31467244\n",
            " 2.73602756 2.96977457 2.72505465 2.78240299 2.64412056 2.96226839\n",
            " 3.32462575 2.77844032 2.12793104 2.68290075 3.08462777 2.44012217\n",
            " 3.52838828 2.83076753 3.57182817 2.54491942 3.70049442 2.72671048\n",
            " 2.72076958 2.20024438 1.74516411 3.71770833 2.11572457 2.02615784\n",
            " 3.54955098 2.15796292 1.81072456 3.95336696 3.02017018 3.14039767\n",
            " 3.28668436 3.28194339 2.47070874 3.61628849 2.3968425  3.285112\n",
            " 3.95362063 1.97030217 3.03899505 1.75453224 3.01587992 2.82778551\n",
            " 3.08762182 3.70245732 3.51208451 3.5815695  3.16216942 3.44272969\n",
            " 1.88680019 3.73431728 2.02890022 2.99495075 2.32703613 3.07639192\n",
            " 3.9372513  3.19673717 2.80100987 2.04880011 3.09684431 3.45996552\n",
            " 2.9893493  3.52726957 3.70905787 1.94648622 2.57254235 3.24594898\n",
            " 3.25670196 2.85555077 3.11775012 2.44160417 2.47895521 3.9015964\n",
            " 2.97189221 3.71086704 3.72950796 1.97978332 3.61357217 3.60335803\n",
            " 2.62287037 3.24800742 2.18429947 2.93754291 3.73587864 2.88198069\n",
            " 3.46678422 3.33327121 1.92532467 3.6172841  3.04051216]\n"
          ]
        }
      ],
      "source": [
        "print(y_pred_1)"
      ]
    },
    {
      "cell_type": "code",
      "execution_count": 113,
      "id": "9610a685",
      "metadata": {
        "colab": {
          "base_uri": "https://localhost:8080/"
        },
        "id": "9610a685",
        "outputId": "6fb77009-88fa-4763-a371-3a6ed4aaeea3"
      },
      "outputs": [
        {
          "output_type": "stream",
          "name": "stdout",
          "text": [
            "Results:\n",
            "MAE: 0.05574512833611266\n",
            "MSE: 0.004958299158269027\n",
            "RMSE: 0.07041519124641377\n",
            "R-Squared: 0.9857820134296875\n"
          ]
        }
      ],
      "source": [
        "mae = metrics.mean_absolute_error(y3_test.values,y_pred_1)\n",
        "mse = metrics.mean_squared_error(y3_test.values,y_pred_1)\n",
        "rmse = np.sqrt(mse) # or mse**(0.5)  \n",
        "r2 = metrics.r2_score(y3_test.values,y_pred_1)\n",
        "\n",
        "print(\"Results:\")\n",
        "print(\"MAE:\",mae)\n",
        "print(\"MSE:\", mse)\n",
        "print(\"RMSE:\", rmse)\n",
        "print(\"R-Squared:\", r2)\n"
      ]
    },
    {
      "cell_type": "markdown",
      "source": [
        "**Linear Regression For Model 3**"
      ],
      "metadata": {
        "id": "5wc99TR05bwT"
      },
      "id": "5wc99TR05bwT"
    },
    {
      "cell_type": "code",
      "execution_count": 114,
      "id": "b8ac5c3b",
      "metadata": {
        "colab": {
          "base_uri": "https://localhost:8080/"
        },
        "id": "b8ac5c3b",
        "outputId": "b9c7b5b5-f2e9-4281-f064-485879fdac5e"
      },
      "outputs": [
        {
          "output_type": "execute_result",
          "data": {
            "text/plain": [
              "LinearRegression()"
            ]
          },
          "metadata": {},
          "execution_count": 114
        }
      ],
      "source": [
        "from sklearn.linear_model import LinearRegression\n",
        "regressor6=LinearRegression()\n",
        "regressor6.fit(x3_train.values,y3_train.values)"
      ]
    },
    {
      "cell_type": "code",
      "execution_count": 115,
      "id": "09fe5a06",
      "metadata": {
        "id": "09fe5a06"
      },
      "outputs": [],
      "source": [
        "y_pred_2=regressor6.predict(x3_test.values)"
      ]
    },
    {
      "cell_type": "code",
      "execution_count": 116,
      "id": "d423d50e",
      "metadata": {
        "colab": {
          "base_uri": "https://localhost:8080/"
        },
        "id": "d423d50e",
        "outputId": "600353bb-b054-43a0-aea0-bfccf3cc578f"
      },
      "outputs": [
        {
          "output_type": "stream",
          "name": "stdout",
          "text": [
            "Results:\n",
            "MAE: 0.07432940214236057\n",
            "MSE: 0.008388316701616756\n",
            "RMSE: 0.091587754102919\n",
            "R-Squared: 0.9759463940346934\n"
          ]
        }
      ],
      "source": [
        "mae = metrics.mean_absolute_error(y3_test.values,y_pred_2)\n",
        "mse = metrics.mean_squared_error(y3_test.values,y_pred_2)\n",
        "rmse = np.sqrt(mse) # or mse**(0.5)  \n",
        "r2 = metrics.r2_score(y3_test.values,y_pred_2)\n",
        "\n",
        "print(\"Results:\")\n",
        "print(\"MAE:\",mae)\n",
        "print(\"MSE:\", mse)\n",
        "print(\"RMSE:\", rmse)\n",
        "print(\"R-Squared:\", r2)"
      ]
    },
    {
      "cell_type": "markdown",
      "source": [
        "KNN Regressor for Model 3"
      ],
      "metadata": {
        "id": "EonOYY2q5t7j"
      },
      "id": "EonOYY2q5t7j"
    },
    {
      "cell_type": "code",
      "execution_count": 117,
      "id": "a8b20d65",
      "metadata": {
        "colab": {
          "base_uri": "https://localhost:8080/"
        },
        "id": "a8b20d65",
        "outputId": "6c76101f-af84-4a4f-f034-21e44cc8a9b6"
      },
      "outputs": [
        {
          "output_type": "stream",
          "name": "stdout",
          "text": [
            "Test set predictions:\n",
            "[3.2688     2.48866667 3.332      3.19093333 3.44073333 2.48046667\n",
            " 2.74946667 3.8234     2.85493333 1.88366667 3.11793333 2.88873333\n",
            " 2.08426667 3.81673333 3.9036     3.42133333 3.84306667 3.4224\n",
            " 3.39073333 3.7004     2.56146667 2.8126     3.16253333 3.87853333\n",
            " 3.67433333 3.23773333 3.41513333 3.34626667 2.77866667 3.67553333\n",
            " 1.93286667 3.43006667 3.1774     2.69       2.1038     2.83466667\n",
            " 3.86853333 2.90406667 2.6774     3.70393333 3.0394     3.37393333\n",
            " 3.75613333 3.3732     3.70286667 2.8876     2.8558     2.13086667\n",
            " 2.5688     3.2828     2.26593333 2.79513333 3.8402     2.22173333\n",
            " 2.86326667 2.8912     2.82133333 2.799      2.76466667 3.00773333\n",
            " 3.43073333 2.8118     2.09893333 2.77013333 3.21393333 2.46626667\n",
            " 3.59466667 2.92506667 3.65026667 2.6136     3.79466667 2.669\n",
            " 2.80046667 2.354      2.00986667 3.8132     2.22386667 2.06666667\n",
            " 3.6158     2.09486667 1.98146667 3.89086667 3.09553333 3.16713333\n",
            " 3.34893333 3.49313333 2.4938     3.69913333 2.58293333 3.31286667\n",
            " 3.90173333 2.07326667 3.09553333 1.8914     3.01406667 2.87666667\n",
            " 3.08933333 3.81033333 3.58       3.69373333 3.34973333 3.52466667\n",
            " 2.03946667 3.81646667 2.26773333 3.205      2.40006667 3.27206667\n",
            " 3.88913333 3.19713333 2.97666667 2.18446667 3.18793333 3.4642\n",
            " 3.01893333 3.636      3.71946667 1.98706667 2.70873333 3.42186667\n",
            " 3.20306667 2.9504     3.30786667 2.5196     2.60213333 3.88586667\n",
            " 3.12633333 3.80013333 3.7832     2.1674     3.6242     3.70133333\n",
            " 2.6984     3.3872     2.1348     3.1522     3.83566667 3.07893333\n",
            " 3.45846667 3.40086667 2.1198     3.64866667 3.0504    ]\n"
          ]
        }
      ],
      "source": [
        "from sklearn.neighbors import KNeighborsRegressor\n",
        "from sklearn.model_selection import train_test_split\n",
        "import mglearn\n",
        "x, y = mglearn.datasets.make_wave(n_samples=1400)\n",
        "# split the wave dataset into a training and a test set\n",
        "x3_train, x3_test, y3_train, y3_test = train_test_split(x3, y3,\n",
        "random_state=0)\n",
        "# instantiate the model and set the number of neighbors to consider to 3\n",
        "reg2 = KNeighborsRegressor(n_neighbors=15)\n",
        "# fit the model using the training data and training targets\n",
        "reg2.fit(x3_train.values, y3_train.values)\n",
        "c=reg2.predict(x3_test.values)\n",
        "print(\"Test set predictions:\\n{}\".format(c))"
      ]
    },
    {
      "cell_type": "code",
      "execution_count": 118,
      "id": "080ac8ba",
      "metadata": {
        "colab": {
          "base_uri": "https://localhost:8080/"
        },
        "id": "080ac8ba",
        "outputId": "33ad48f0-4ec8-46f1-9797-c32d1637081a"
      },
      "outputs": [
        {
          "output_type": "stream",
          "name": "stdout",
          "text": [
            "Results:\n",
            "MAE: 0.0920596736596736\n",
            "MSE: 0.013222434623154613\n",
            "RMSE: 0.11498884564667397\n",
            "R-Squared: 0.9620844987569331\n"
          ]
        }
      ],
      "source": [
        "mae = metrics.mean_absolute_error(y3_test.values, c)\n",
        "mse = metrics.mean_squared_error(y3_test.values, c)\n",
        "rmse = np.sqrt(mse) # or mse**(0.5)  \n",
        "r2 = metrics.r2_score(y3_test.values, c)\n",
        "\n",
        "print(\"Results:\")\n",
        "print(\"MAE:\",mae)\n",
        "print(\"MSE:\", mse)\n",
        "print(\"RMSE:\", rmse)\n",
        "print(\"R-Squared:\", r2)\n"
      ]
    },
    {
      "cell_type": "code",
      "source": [
        "results = [regressor5.score(x3_test.values,y3_test.values), regressor6.score(x3_test.values,y3_test.values), reg2.score(x3_test.values,y3_test.values)]\n",
        "names = [\"SVM\",\"Linear Regression\",\"KNN Regression\"]\n",
        "import seaborn as sns\n",
        "plt.subplots(figsize=(16,8))\n",
        "\n",
        "sns.barplot(names,results)\n",
        "\n",
        "plt.xticks(rotation=90)\n",
        "plt.title('Accuracy of SVM vs Linear Regression vs KNN Regression')\n",
        "plt.show()"
      ],
      "metadata": {
        "colab": {
          "base_uri": "https://localhost:8080/",
          "height": 633
        },
        "id": "iOOEfnigifwM",
        "outputId": "63fcf7cd-46a7-4417-d3b8-54f6debca295"
      },
      "id": "iOOEfnigifwM",
      "execution_count": 123,
      "outputs": [
        {
          "output_type": "stream",
          "name": "stderr",
          "text": [
            "/usr/local/lib/python3.7/dist-packages/seaborn/_decorators.py:43: FutureWarning: Pass the following variables as keyword args: x, y. From version 0.12, the only valid positional argument will be `data`, and passing other arguments without an explicit keyword will result in an error or misinterpretation.\n",
            "  FutureWarning\n"
          ]
        },
        {
          "output_type": "display_data",
          "data": {
            "text/plain": [
              "<Figure size 1152x576 with 1 Axes>"
            ],
            "image/png": "[encoded data removed]"
          },
          "metadata": {
            "needs_background": "light"
          }
        }
      ]
    },
    {
      "cell_type": "code",
      "source": [
        "sns.lineplot(names,results)"
      ],
      "metadata": {
        "colab": {
          "base_uri": "https://localhost:8080/",
          "height": 337
        },
        "id": "5co2-RV9jXI8",
        "outputId": "1064fafd-33d4-4e15-cc6b-8b68c26d5103"
      },
      "id": "5co2-RV9jXI8",
      "execution_count": 122,
      "outputs": [
        {
          "output_type": "stream",
          "name": "stderr",
          "text": [
            "/usr/local/lib/python3.7/dist-packages/seaborn/_decorators.py:43: FutureWarning: Pass the following variables as keyword args: x, y. From version 0.12, the only valid positional argument will be `data`, and passing other arguments without an explicit keyword will result in an error or misinterpretation.\n",
            "  FutureWarning\n"
          ]
        },
        {
          "output_type": "execute_result",
          "data": {
            "text/plain": [
              "<matplotlib.axes._subplots.AxesSubplot at 0x7fee83347710>"
            ]
          },
          "metadata": {},
          "execution_count": 122
        },
        {
          "output_type": "display_data",
          "data": {
            "text/plain": [
              "<Figure size 432x288 with 1 Axes>"
            ],
            "image/png": "[encoded data removed]"
          },
          "metadata": {
            "needs_background": "light"
          }
        }
      ]
    },
    {
      "cell_type": "markdown",
      "source": [
        "**Interface**"
      ],
      "metadata": {
        "id": "foOAf8tDhUJI"
      },
      "id": "foOAf8tDhUJI"
    },
    {
      "cell_type": "code",
      "execution_count": null,
      "id": "2483d8e9",
      "metadata": {
        "colab": {
          "base_uri": "https://localhost:8080/"
        },
        "id": "2483d8e9",
        "outputId": "18005e98-d2af-4264-923e-00be1e914c2c"
      },
      "outputs": [
        {
          "name": "stdout",
          "output_type": "stream",
          "text": [
            "WELCOME TO CGPA PREDICTOR\n",
            "\n",
            "Press 1 for prediction on first year gpa.\n",
            "\n",
            "Press 2 for prediction on first two years gpa.\n",
            "\n",
            "Press 3 for prediction on first three years gpa.\n"
          ]
        }
      ],
      "source": [
        "print('WELCOME TO CGPA PREDICTOR')\n",
        "print('\\nPress 1 for prediction on first year gpa.')\n",
        "print('\\nPress 2 for prediction on first two years gpa.')\n",
        "print('\\nPress 3 for prediction on first three years gpa.')\n",
        "a=int(input('\\nChoose any one from the options given above:'))\n",
        "if a == 1:\n",
        "   print('\\nYou can enter any value from 4.0,3.7,3.3,3.0,2.7,2.3,2.0,1.7,1.3,1.0,0.0 below:')\n",
        "   b=float(input('\\nEnter the GPA of PH-121:'))\n",
        "   c=float(input('Enter the GPA of HS-101:'))\n",
        "   d=float(input('Enter the GPA of CY-105:'))\n",
        "   e=float(input('Enter the GPA of HS-105/12:'))\n",
        "   f=float(input('Enter the GPA of MT-111:'))\n",
        "   g=float(input('Enter the GPA of CS-105:'))\n",
        "   h=float(input('Enter the GPA of CS-106:'))\n",
        "   i=float(input('Enter the GPA of EL-102:'))\n",
        "   j=float(input('Enter the GPA of EE-119:'))\n",
        "   k=float(input('Enter the GPA of ME-107:'))\n",
        "   l=float(input('Enter the GPA of CS-107:'))\n",
        "   new_input=[[b,c,d,e,f,g,h,i,j,k,l]]\n",
        "   out1=regressor1.predict(new_input)\n",
        "   print('The Predicted CGPA using SVR is',(out1))\n",
        "   out2=regressor2.predict(new_input)\n",
        "   print('The Predicted CGPA using Linear Regression is',(out2))\n",
        "   out3=reg.predict(new_input)\n",
        "   print('The Predicted CGPA using kNN Regressor is',(out3))\n",
        "if a == 2:\n",
        "   print('\\nYou can enter any value from 4.0,3.7,3.3,3.0,2.7,2.3,2.0,1.7,1.3,1.0,0.0 below:')\n",
        "   b=float(input('\\nEnter the GPA of PH-121:'))\n",
        "   c=float(input('Enter the GPA of HS-101:'))\n",
        "   d=float(input('Enter the GPA of CY-105:'))\n",
        "   e=float(input('Enter the GPA of HS-105/12:'))\n",
        "   f=float(input('Enter the GPA of MT-111:'))\n",
        "   g=float(input('Enter the GPA of CS-105:'))\n",
        "   h=float(input('Enter the GPA of CS-106:'))\n",
        "   i=float(input('Enter the GPA of EL-102:'))\n",
        "   j=float(input('Enter the GPA of EE-119:'))\n",
        "   k=float(input('Enter the GPA of ME-107:'))\n",
        "   l=float(input('Enter the GPA of CS-107:'))\n",
        "   m=float(input('Enter the GPA of HS-205/20:'))\n",
        "   n=float(input('Enter the GPA of MT-222:'))\n",
        "   o=float(input('Enter the GPA of EE-222:'))\n",
        "   p=float(input('Enter the GPA of MT-224:'))\n",
        "   q=float(input('Enter the GPA of CS-210:'))\n",
        "   r=float(input('Enter the GPA of CS-211:'))\n",
        "   s=float(input('Enter the GPA of CS-203:'))\n",
        "   t=float(input('Enter the GPA of CS-214:'))\n",
        "   u=float(input('Enter the GPA of EE-217:'))\n",
        "   v=float(input('Enter the GPA of CS-212:'))\n",
        "   w=float(input('Enter the GPA of CS-215:'))\n",
        "   new_input=[[b,c,d,e,f,g,h,i,j,k,l,m,n,o,p,g,r,s,t,u,v,w]]\n",
        "   out4=regressor3.predict(new_input)\n",
        "   print('The Predicted CGPA using SVR is',(out4))\n",
        "   out5=regressor4.predict(new_input)\n",
        "   print('The Predicted CGPA using Linear Regression is',(out5))\n",
        "   out6=reg1.predict(new_input)\n",
        "   print('The Predicted CGPA using kNN Regressor is',(out6))\n",
        "if a == 3:\n",
        "   print('\\nYou can enter any value from 4.0,3.7,3.3,3.0,2.7,2.3,2.0,1.7,1.3,1.0,0.0 below:')\n",
        "   b=float(input('\\nEnter the GPA of PH-121:'))\n",
        "   c=float(input('Enter the GPA of HS-101:'))\n",
        "   d=float(input('Enter the GPA of CY-105:'))\n",
        "   e=float(input('Enter the GPA of HS-105/12:'))\n",
        "   f=float(input('Enter the GPA of MT-111:'))\n",
        "   g=float(input('Enter the GPA of CS-105:'))\n",
        "   h=float(input('Enter the GPA of CS-106:'))\n",
        "   i=float(input('Enter the GPA of EL-102:'))\n",
        "   j=float(input('Enter the GPA of EE-119:'))\n",
        "   k=float(input('Enter the GPA of ME-107:'))\n",
        "   l=float(input('Enter the GPA of CS-107:'))\n",
        "   m=float(input('Enter the GPA of HS-205/20:'))\n",
        "   n=float(input('Enter the GPA of MT-222:'))\n",
        "   o=float(input('Enter the GPA of EE-222:'))\n",
        "   p=float(input('Enter the GPA of MT-224:'))\n",
        "   q=float(input('Enter the GPA of CS-210:'))\n",
        "   r=float(input('Enter the GPA of CS-211:'))\n",
        "   s=float(input('Enter the GPA of CS-203:'))\n",
        "   t=float(input('Enter the GPA of CS-214:'))\n",
        "   u=float(input('Enter the GPA of EE-217:'))\n",
        "   v=float(input('Enter the GPA of CS-212:'))\n",
        "   w=float(input('Enter the GPA of CS-215:'))\n",
        "   x=float(input('Enter the GPA of MT-331:'))\n",
        "   y=float(input('Enter the GPA of EF-303:'))\n",
        "   z=float(input('Enter the GPA of HS-304:'))\n",
        "   aa=float(input('Enter the GPA of CS-301:'))\n",
        "   ab=float(input('Enter the GPA of CS-302:'))\n",
        "   ac=float(input('Enter the GPA of TC-383:'))\n",
        "   ad=float(input('Enter the GPA of EL-332:'))\n",
        "   ae=float(input('Enter the GPA of CS-318:'))\n",
        "   af=float(input('Enter the GPA of CS-306:'))\n",
        "   ag=float(input('Enter the GPA of CS-312:'))\n",
        "   ah=float(input('Enter the GPA of CS-317:'))\n",
        "   new_input=[[b,c,d,e,f,g,h,i,j,k,l,m,n,o,p,g,r,s,t,u,v,w,x,y,z,aa,ab,ac,ad,ae,af,ag,ah]]\n",
        "   out7=regressor5.predict(new_input)\n",
        "   print('The Predicted CGPA using SVR is',(out7))\n",
        "   out8=regressor6.predict(new_input)\n",
        "   print('The Predicted CGPA using Linear Regression is',(out8))\n",
        "   out9=reg2.predict(new_input)\n",
        "   print('The Predicted CGPA using kNN Regressor is',(out9))\n"
      ]
    },
    {
      "cell_type": "code",
      "execution_count": null,
      "id": "d8dc6cb1",
      "metadata": {
        "id": "d8dc6cb1"
      },
      "outputs": [],
      "source": [
        ""
      ]
    }
  ],
  "metadata": {
    "colab": {
      "collapsed_sections": [],
      "name": "CS_19130.ipynb",
      "provenance": []
    },
    "kernelspec": {
      "display_name": "Python 3 (ipykernel)",
      "language": "python",
      "name": "python3"
    },
    "language_info": {
      "codemirror_mode": {
        "name": "ipython",
        "version": 3
      },
      "file_extension": ".py",
      "mimetype": "text/x-python",
      "name": "python",
      "nbconvert_exporter": "python",
      "pygments_lexer": "ipython3",
      "version": "3.9.12"
    }
  },
  "nbformat": 4,
  "nbformat_minor": 5
}